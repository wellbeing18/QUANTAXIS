{
 "cells": [
  {
   "cell_type": "code",
   "execution_count": 130,
   "metadata": {},
   "outputs": [
    {
     "name": "stdout",
     "output_type": "stream",
     "text": [
      "The autoreload extension is already loaded. To reload it, use:\n",
      "  %reload_ext autoreload\n"
     ]
    }
   ],
   "source": [
    "%load_ext autoreload\n",
    "%autoreload 2\n",
    "#%aimport your_mod"
   ]
  },
  {
   "cell_type": "markdown",
   "metadata": {},
   "source": [
    "# 1. Block infor reading\n",
    "- incon.dat                                       证监会行业，通达信新行业，申万行业等描述信息\n",
    "- T0002\\hq_cache\\block.dat            一般板块\n",
    "- T0002\\hq_cache\\block_gn.dat      概念板块\n",
    "- T0002\\hq_cache\\block_fg.dat       风格板块\n",
    "- T0002\\hq_cache\\block_zs.dat       指数板块:\n",
    "- T0002\\hq_cache\\tdxhy.cfg             每个股票对应通达信行业和申万行业\n",
    "- T0002\\hq_cache\\tdxzs.cfg             板块指数，部分板块的最后一个字段映射到incon.dat的TDXNHY和SWHY\n",
    "- T0002\\blocknew\\blocknew.cfg        自定义板块概要描述文件"
   ]
  },
  {
   "cell_type": "code",
   "execution_count": 1,
   "metadata": {},
   "outputs": [],
   "source": [
    "from pytdx.reader.block_reader import BlockReader\n",
    "BlockReader_TYPE_GROUP = 1"
   ]
  },
  {
   "cell_type": "code",
   "execution_count": 9,
   "metadata": {},
   "outputs": [],
   "source": [
    "block_data_path_zs = \"C:/Users/ben_msi/abu/data/download/tdx/block_zs.dat\""
   ]
  },
  {
   "cell_type": "code",
   "execution_count": 10,
   "metadata": {},
   "outputs": [],
   "source": [
    "df_block_zs = BlockReader().get_df(block_data_path_zs, BlockReader_TYPE_GROUP)"
   ]
  },
  {
   "cell_type": "code",
   "execution_count": 11,
   "metadata": {},
   "outputs": [
    {
     "data": {
      "text/html": [
       "<div>\n",
       "<style scoped>\n",
       "    .dataframe tbody tr th:only-of-type {\n",
       "        vertical-align: middle;\n",
       "    }\n",
       "\n",
       "    .dataframe tbody tr th {\n",
       "        vertical-align: top;\n",
       "    }\n",
       "\n",
       "    .dataframe thead th {\n",
       "        text-align: right;\n",
       "    }\n",
       "</style>\n",
       "<table border=\"1\" class=\"dataframe\">\n",
       "  <thead>\n",
       "    <tr style=\"text-align: right;\">\n",
       "      <th></th>\n",
       "      <th>blockname</th>\n",
       "      <th>block_type</th>\n",
       "      <th>stock_count</th>\n",
       "      <th>code_list</th>\n",
       "    </tr>\n",
       "  </thead>\n",
       "  <tbody>\n",
       "    <tr>\n",
       "      <th>60</th>\n",
       "      <td>央视50</td>\n",
       "      <td>2</td>\n",
       "      <td>50</td>\n",
       "      <td>000002,000049,000333,000423,000538,000596,0006...</td>\n",
       "    </tr>\n",
       "    <tr>\n",
       "      <th>61</th>\n",
       "      <td>腾讯济安</td>\n",
       "      <td>2</td>\n",
       "      <td>100</td>\n",
       "      <td>000423,000488,000553,000581,000623,000665,0007...</td>\n",
       "    </tr>\n",
       "    <tr>\n",
       "      <th>62</th>\n",
       "      <td>大数据i</td>\n",
       "      <td>2</td>\n",
       "      <td>100</td>\n",
       "      <td>000030,000039,000040,000090,000408,000415,0004...</td>\n",
       "    </tr>\n",
       "    <tr>\n",
       "      <th>63</th>\n",
       "      <td>中华A80</td>\n",
       "      <td>2</td>\n",
       "      <td>80</td>\n",
       "      <td>000001,000002,000166,000333,000538,000651,0007...</td>\n",
       "    </tr>\n",
       "    <tr>\n",
       "      <th>64</th>\n",
       "      <td>能源互联</td>\n",
       "      <td>2</td>\n",
       "      <td>50</td>\n",
       "      <td>000400,002028,002063,002074,002121,002169,0022...</td>\n",
       "    </tr>\n",
       "  </tbody>\n",
       "</table>\n",
       "</div>"
      ],
      "text/plain": [
       "   blockname  block_type  stock_count  \\\n",
       "60      央视50           2           50   \n",
       "61      腾讯济安           2          100   \n",
       "62      大数据i           2          100   \n",
       "63     中华A80           2           80   \n",
       "64      能源互联           2           50   \n",
       "\n",
       "                                            code_list  \n",
       "60  000002,000049,000333,000423,000538,000596,0006...  \n",
       "61  000423,000488,000553,000581,000623,000665,0007...  \n",
       "62  000030,000039,000040,000090,000408,000415,0004...  \n",
       "63  000001,000002,000166,000333,000538,000651,0007...  \n",
       "64  000400,002028,002063,002074,002121,002169,0022...  "
      ]
     },
     "execution_count": 11,
     "metadata": {},
     "output_type": "execute_result"
    }
   ],
   "source": [
    "df_block_zs.tail()"
   ]
  },
  {
   "cell_type": "code",
   "execution_count": 12,
   "metadata": {},
   "outputs": [
    {
     "data": {
      "text/html": [
       "<div>\n",
       "<style scoped>\n",
       "    .dataframe tbody tr th:only-of-type {\n",
       "        vertical-align: middle;\n",
       "    }\n",
       "\n",
       "    .dataframe tbody tr th {\n",
       "        vertical-align: top;\n",
       "    }\n",
       "\n",
       "    .dataframe thead th {\n",
       "        text-align: right;\n",
       "    }\n",
       "</style>\n",
       "<table border=\"1\" class=\"dataframe\">\n",
       "  <thead>\n",
       "    <tr style=\"text-align: right;\">\n",
       "      <th></th>\n",
       "      <th>blockname</th>\n",
       "      <th>block_type</th>\n",
       "      <th>stock_count</th>\n",
       "      <th>code_list</th>\n",
       "    </tr>\n",
       "  </thead>\n",
       "  <tbody>\n",
       "    <tr>\n",
       "      <th>135</th>\n",
       "      <td>人工智能</td>\n",
       "      <td>2</td>\n",
       "      <td>71</td>\n",
       "      <td>000038,000066,000502,000821,000936,000938,0009...</td>\n",
       "    </tr>\n",
       "    <tr>\n",
       "      <th>136</th>\n",
       "      <td>租购同权</td>\n",
       "      <td>2</td>\n",
       "      <td>19</td>\n",
       "      <td>000007,000027,000056,000090,000560,000863,0009...</td>\n",
       "    </tr>\n",
       "    <tr>\n",
       "      <th>137</th>\n",
       "      <td>工业互联</td>\n",
       "      <td>2</td>\n",
       "      <td>41</td>\n",
       "      <td>000410,002079,002169,002184,002217,002230,0022...</td>\n",
       "    </tr>\n",
       "    <tr>\n",
       "      <th>138</th>\n",
       "      <td>独角兽</td>\n",
       "      <td>2</td>\n",
       "      <td>54</td>\n",
       "      <td>000532,000555,000676,000793,000829,000935,0009...</td>\n",
       "    </tr>\n",
       "    <tr>\n",
       "      <th>139</th>\n",
       "      <td>知识产权</td>\n",
       "      <td>2</td>\n",
       "      <td>16</td>\n",
       "      <td>000681,002235,002329,002474,002544,300079,3001...</td>\n",
       "    </tr>\n",
       "  </tbody>\n",
       "</table>\n",
       "</div>"
      ],
      "text/plain": [
       "    blockname  block_type  stock_count  \\\n",
       "135      人工智能           2           71   \n",
       "136      租购同权           2           19   \n",
       "137      工业互联           2           41   \n",
       "138       独角兽           2           54   \n",
       "139      知识产权           2           16   \n",
       "\n",
       "                                             code_list  \n",
       "135  000038,000066,000502,000821,000936,000938,0009...  \n",
       "136  000007,000027,000056,000090,000560,000863,0009...  \n",
       "137  000410,002079,002169,002184,002217,002230,0022...  \n",
       "138  000532,000555,000676,000793,000829,000935,0009...  \n",
       "139  000681,002235,002329,002474,002544,300079,3001...  "
      ]
     },
     "execution_count": 12,
     "metadata": {},
     "output_type": "execute_result"
    }
   ],
   "source": [
    "block_data_path_gn = \"C:/Users/ben_msi/abu/data/download/tdx/block_gn.dat\"\n",
    "df_block_gn = BlockReader().get_df(block_data_path_gn, BlockReader_TYPE_GROUP)\n",
    "df_block_gn.tail()"
   ]
  },
  {
   "cell_type": "code",
   "execution_count": 13,
   "metadata": {},
   "outputs": [
    {
     "data": {
      "text/html": [
       "<div>\n",
       "<style scoped>\n",
       "    .dataframe tbody tr th:only-of-type {\n",
       "        vertical-align: middle;\n",
       "    }\n",
       "\n",
       "    .dataframe tbody tr th {\n",
       "        vertical-align: top;\n",
       "    }\n",
       "\n",
       "    .dataframe thead th {\n",
       "        text-align: right;\n",
       "    }\n",
       "</style>\n",
       "<table border=\"1\" class=\"dataframe\">\n",
       "  <thead>\n",
       "    <tr style=\"text-align: right;\">\n",
       "      <th></th>\n",
       "      <th>blockname</th>\n",
       "      <th>block_type</th>\n",
       "      <th>stock_count</th>\n",
       "      <th>code_list</th>\n",
       "    </tr>\n",
       "  </thead>\n",
       "  <tbody>\n",
       "    <tr>\n",
       "      <th>83</th>\n",
       "      <td>活跃股</td>\n",
       "      <td>2</td>\n",
       "      <td>100</td>\n",
       "      <td>000636,000735,000820,002072,002243,002580,0025...</td>\n",
       "    </tr>\n",
       "    <tr>\n",
       "      <th>84</th>\n",
       "      <td>不活跃股</td>\n",
       "      <td>2</td>\n",
       "      <td>100</td>\n",
       "      <td>000004,000042,000096,000502,000586,000608,0006...</td>\n",
       "    </tr>\n",
       "    <tr>\n",
       "      <th>85</th>\n",
       "      <td>近期新高</td>\n",
       "      <td>2</td>\n",
       "      <td>23</td>\n",
       "      <td>000528,000597,000650,000860,000977,002242,0022...</td>\n",
       "    </tr>\n",
       "    <tr>\n",
       "      <th>86</th>\n",
       "      <td>近期新低</td>\n",
       "      <td>2</td>\n",
       "      <td>17</td>\n",
       "      <td>000566,000616,000793,000939,002082,002089,0025...</td>\n",
       "    </tr>\n",
       "    <tr>\n",
       "      <th>87</th>\n",
       "      <td>近期异动</td>\n",
       "      <td>2</td>\n",
       "      <td>48</td>\n",
       "      <td>000017,000506,000613,000721,000735,002072,0022...</td>\n",
       "    </tr>\n",
       "  </tbody>\n",
       "</table>\n",
       "</div>"
      ],
      "text/plain": [
       "   blockname  block_type  stock_count  \\\n",
       "83       活跃股           2          100   \n",
       "84      不活跃股           2          100   \n",
       "85      近期新高           2           23   \n",
       "86      近期新低           2           17   \n",
       "87      近期异动           2           48   \n",
       "\n",
       "                                            code_list  \n",
       "83  000636,000735,000820,002072,002243,002580,0025...  \n",
       "84  000004,000042,000096,000502,000586,000608,0006...  \n",
       "85  000528,000597,000650,000860,000977,002242,0022...  \n",
       "86  000566,000616,000793,000939,002082,002089,0025...  \n",
       "87  000017,000506,000613,000721,000735,002072,0022...  "
      ]
     },
     "execution_count": 13,
     "metadata": {},
     "output_type": "execute_result"
    }
   ],
   "source": [
    "block_data_path_fg = \"C:/Users/ben_msi/abu/data/download/tdx/block_fg.dat\"\n",
    "df_block_fg = BlockReader().get_df(block_data_path_fg, BlockReader_TYPE_GROUP)\n",
    "df_block_fg.tail()"
   ]
  },
  {
   "cell_type": "markdown",
   "metadata": {},
   "source": [
    "# 2. TDX 板块指数列表获取\n",
    "- T0002\\hq_cache\\tdxzs.cfg 板块指数，部分板块的最后一个字段映射到incon.dat的TDXNHY和SWHY\n",
    "- incon.dat: 板块代码到名称的映射"
   ]
  },
  {
   "cell_type": "markdown",
   "metadata": {},
   "source": [
    "## 2.1 TDX 板块代码名称映射"
   ]
  },
  {
   "cell_type": "code",
   "execution_count": null,
   "metadata": {},
   "outputs": [],
   "source": [
    "block_data_path_all = \"C:/Users/ben_msi/abu/data/download/tdx/incon.dat\""
   ]
  },
  {
   "cell_type": "markdown",
   "metadata": {},
   "source": [
    "## 1) text file read and parse into list"
   ]
  },
  {
   "cell_type": "code",
   "execution_count": 15,
   "metadata": {},
   "outputs": [],
   "source": [
    "with open(block_data_path_all, 'r') as f:\n",
    "    lines = f.readlines()\n",
    "    lines = [line.strip() for line in lines]\n",
    "    lines = [line.split('|') for line in lines]"
   ]
  },
  {
   "cell_type": "code",
   "execution_count": 17,
   "metadata": {},
   "outputs": [
    {
     "data": {
      "text/plain": [
       "[['qsgn0000702', '中泰证券'],\n",
       " ['gssh0600837', '海通证券'],\n",
       " ['9900008427', '东兴证券'],\n",
       " ['gssz0000728', '国元证券'],\n",
       " ['######']]"
      ]
     },
     "execution_count": 17,
     "metadata": {},
     "output_type": "execute_result"
    }
   ],
   "source": [
    "lines[-5:]"
   ]
  },
  {
   "cell_type": "markdown",
   "metadata": {},
   "source": [
    "## 2) convert list into pd df"
   ]
  },
  {
   "cell_type": "code",
   "execution_count": 18,
   "metadata": {},
   "outputs": [],
   "source": [
    "import pandas as pd"
   ]
  },
  {
   "cell_type": "code",
   "execution_count": 19,
   "metadata": {},
   "outputs": [],
   "source": [
    "cols = ['block_code', 'block_name']\n",
    "block_df = pd.DataFrame(lines, columns=cols)"
   ]
  },
  {
   "cell_type": "code",
   "execution_count": 20,
   "metadata": {},
   "outputs": [
    {
     "data": {
      "text/html": [
       "<div>\n",
       "<style scoped>\n",
       "    .dataframe tbody tr th:only-of-type {\n",
       "        vertical-align: middle;\n",
       "    }\n",
       "\n",
       "    .dataframe tbody tr th {\n",
       "        vertical-align: top;\n",
       "    }\n",
       "\n",
       "    .dataframe thead th {\n",
       "        text-align: right;\n",
       "    }\n",
       "</style>\n",
       "<table border=\"1\" class=\"dataframe\">\n",
       "  <thead>\n",
       "    <tr style=\"text-align: right;\">\n",
       "      <th></th>\n",
       "      <th>block_code</th>\n",
       "      <th>block_name</th>\n",
       "    </tr>\n",
       "  </thead>\n",
       "  <tbody>\n",
       "    <tr>\n",
       "      <th>0</th>\n",
       "      <td>#ZJHHY</td>\n",
       "      <td>None</td>\n",
       "    </tr>\n",
       "    <tr>\n",
       "      <th>1</th>\n",
       "      <td>A</td>\n",
       "      <td>农业</td>\n",
       "    </tr>\n",
       "    <tr>\n",
       "      <th>2</th>\n",
       "      <td>A01</td>\n",
       "      <td>农业</td>\n",
       "    </tr>\n",
       "    <tr>\n",
       "      <th>3</th>\n",
       "      <td>A0101</td>\n",
       "      <td>种植业</td>\n",
       "    </tr>\n",
       "    <tr>\n",
       "      <th>4</th>\n",
       "      <td>A0199</td>\n",
       "      <td>其他农业</td>\n",
       "    </tr>\n",
       "    <tr>\n",
       "      <th>5</th>\n",
       "      <td>A03</td>\n",
       "      <td>林业</td>\n",
       "    </tr>\n",
       "    <tr>\n",
       "      <th>6</th>\n",
       "      <td>A0301</td>\n",
       "      <td>林业</td>\n",
       "    </tr>\n",
       "    <tr>\n",
       "      <th>7</th>\n",
       "      <td>A05</td>\n",
       "      <td>畜牧业</td>\n",
       "    </tr>\n",
       "    <tr>\n",
       "      <th>8</th>\n",
       "      <td>A0501</td>\n",
       "      <td>牲畜饲养放牧业</td>\n",
       "    </tr>\n",
       "    <tr>\n",
       "      <th>9</th>\n",
       "      <td>A0505</td>\n",
       "      <td>家禽饲养业</td>\n",
       "    </tr>\n",
       "  </tbody>\n",
       "</table>\n",
       "</div>"
      ],
      "text/plain": [
       "  block_code block_name\n",
       "0     #ZJHHY       None\n",
       "1          A         农业\n",
       "2        A01         农业\n",
       "3      A0101        种植业\n",
       "4      A0199       其他农业\n",
       "5        A03         林业\n",
       "6      A0301         林业\n",
       "7        A05        畜牧业\n",
       "8      A0501    牲畜饲养放牧业\n",
       "9      A0505      家禽饲养业"
      ]
     },
     "execution_count": 20,
     "metadata": {},
     "output_type": "execute_result"
    }
   ],
   "source": [
    "block_df.head(10)"
   ]
  },
  {
   "cell_type": "markdown",
   "metadata": {},
   "source": [
    "## 3) save block list to csv"
   ]
  },
  {
   "cell_type": "code",
   "execution_count": 21,
   "metadata": {},
   "outputs": [],
   "source": [
    "path_to_save = \"C:/Users/ben_msi/abu/data/download/tdx/\""
   ]
  },
  {
   "cell_type": "code",
   "execution_count": 24,
   "metadata": {},
   "outputs": [],
   "source": [
    "block_df.to_csv(path_to_save + 'block_code2name.csv', encoding='utf_8_sig')"
   ]
  },
  {
   "cell_type": "markdown",
   "metadata": {},
   "source": [
    "## 2.2 TDX 自定义板块指数列表"
   ]
  },
  {
   "cell_type": "code",
   "execution_count": 1,
   "metadata": {},
   "outputs": [],
   "source": [
    "block_data_path_zs = \"C:/Users/ben_msi/abu/data/download/tdx/tdxzs.cfg\""
   ]
  },
  {
   "cell_type": "code",
   "execution_count": 2,
   "metadata": {},
   "outputs": [],
   "source": [
    "with open(block_data_path_zs, 'r') as f:\n",
    "    lines_zs = f.readlines()\n",
    "    lines_zs = [line.strip() for line in lines_zs]\n",
    "    lines_zs = [line.split('|') for line in lines_zs]"
   ]
  },
  {
   "cell_type": "code",
   "execution_count": 3,
   "metadata": {},
   "outputs": [
    {
     "data": {
      "text/plain": [
       "[['TDX 交运', '880989', '2', '1', '0', 'T09'],\n",
       " ['TDX 金融', '880990', '2', '1', '0', 'T10'],\n",
       " ['TDX 建设', '880991', '2', '1', '0', 'T11'],\n",
       " ['TDX 信息', '880992', '2', '1', '0', 'T12'],\n",
       " ['TDX 综企', '880993', '2', '1', '0', 'T13']]"
      ]
     },
     "execution_count": 3,
     "metadata": {},
     "output_type": "execute_result"
    }
   ],
   "source": [
    "lines_zs[-5:]"
   ]
  },
  {
   "cell_type": "code",
   "execution_count": 5,
   "metadata": {},
   "outputs": [],
   "source": [
    "import pandas as pd\n",
    "cols = ['block_idx_name', 'block_idx_code', 'type', 'unknown', 'unknown','block_code']\n",
    "block_zs_df = pd.DataFrame(lines_zs, columns=cols)"
   ]
  },
  {
   "cell_type": "code",
   "execution_count": 6,
   "metadata": {},
   "outputs": [
    {
     "data": {
      "text/html": [
       "<div>\n",
       "<style scoped>\n",
       "    .dataframe tbody tr th:only-of-type {\n",
       "        vertical-align: middle;\n",
       "    }\n",
       "\n",
       "    .dataframe tbody tr th {\n",
       "        vertical-align: top;\n",
       "    }\n",
       "\n",
       "    .dataframe thead th {\n",
       "        text-align: right;\n",
       "    }\n",
       "</style>\n",
       "<table border=\"1\" class=\"dataframe\">\n",
       "  <thead>\n",
       "    <tr style=\"text-align: right;\">\n",
       "      <th></th>\n",
       "      <th>block_idx_name</th>\n",
       "      <th>block_idx_code</th>\n",
       "      <th>type</th>\n",
       "      <th>unknown</th>\n",
       "      <th>unknown</th>\n",
       "      <th>block_code</th>\n",
       "    </tr>\n",
       "  </thead>\n",
       "  <tbody>\n",
       "    <tr>\n",
       "      <th>50</th>\n",
       "      <td>铅锌</td>\n",
       "      <td>880327</td>\n",
       "      <td>2</td>\n",
       "      <td>1</td>\n",
       "      <td>1</td>\n",
       "      <td>T020203</td>\n",
       "    </tr>\n",
       "    <tr>\n",
       "      <th>51</th>\n",
       "      <td>黄金</td>\n",
       "      <td>880328</td>\n",
       "      <td>2</td>\n",
       "      <td>1</td>\n",
       "      <td>1</td>\n",
       "      <td>T020204</td>\n",
       "    </tr>\n",
       "    <tr>\n",
       "      <th>52</th>\n",
       "      <td>小金属</td>\n",
       "      <td>880329</td>\n",
       "      <td>2</td>\n",
       "      <td>1</td>\n",
       "      <td>1</td>\n",
       "      <td>T020205</td>\n",
       "    </tr>\n",
       "    <tr>\n",
       "      <th>53</th>\n",
       "      <td>化纤</td>\n",
       "      <td>880330</td>\n",
       "      <td>2</td>\n",
       "      <td>1</td>\n",
       "      <td>1</td>\n",
       "      <td>T0203</td>\n",
       "    </tr>\n",
       "    <tr>\n",
       "      <th>54</th>\n",
       "      <td>化工</td>\n",
       "      <td>880335</td>\n",
       "      <td>2</td>\n",
       "      <td>1</td>\n",
       "      <td>0</td>\n",
       "      <td>T0204</td>\n",
       "    </tr>\n",
       "    <tr>\n",
       "      <th>55</th>\n",
       "      <td>化工原料</td>\n",
       "      <td>880336</td>\n",
       "      <td>2</td>\n",
       "      <td>1</td>\n",
       "      <td>1</td>\n",
       "      <td>T020401</td>\n",
       "    </tr>\n",
       "    <tr>\n",
       "      <th>56</th>\n",
       "      <td>农药化肥</td>\n",
       "      <td>880337</td>\n",
       "      <td>2</td>\n",
       "      <td>1</td>\n",
       "      <td>1</td>\n",
       "      <td>T020402</td>\n",
       "    </tr>\n",
       "    <tr>\n",
       "      <th>57</th>\n",
       "      <td>塑料</td>\n",
       "      <td>880338</td>\n",
       "      <td>2</td>\n",
       "      <td>1</td>\n",
       "      <td>1</td>\n",
       "      <td>T020404</td>\n",
       "    </tr>\n",
       "    <tr>\n",
       "      <th>58</th>\n",
       "      <td>橡胶</td>\n",
       "      <td>880339</td>\n",
       "      <td>2</td>\n",
       "      <td>1</td>\n",
       "      <td>1</td>\n",
       "      <td>T020405</td>\n",
       "    </tr>\n",
       "    <tr>\n",
       "      <th>59</th>\n",
       "      <td>染料涂料</td>\n",
       "      <td>880340</td>\n",
       "      <td>2</td>\n",
       "      <td>1</td>\n",
       "      <td>1</td>\n",
       "      <td>T020406</td>\n",
       "    </tr>\n",
       "  </tbody>\n",
       "</table>\n",
       "</div>"
      ],
      "text/plain": [
       "   block_idx_name block_idx_code type unknown unknown block_code\n",
       "50             铅锌         880327    2       1       1    T020203\n",
       "51             黄金         880328    2       1       1    T020204\n",
       "52            小金属         880329    2       1       1    T020205\n",
       "53             化纤         880330    2       1       1      T0203\n",
       "54             化工         880335    2       1       0      T0204\n",
       "55           化工原料         880336    2       1       1    T020401\n",
       "56           农药化肥         880337    2       1       1    T020402\n",
       "57             塑料         880338    2       1       1    T020404\n",
       "58             橡胶         880339    2       1       1    T020405\n",
       "59           染料涂料         880340    2       1       1    T020406"
      ]
     },
     "execution_count": 6,
     "metadata": {},
     "output_type": "execute_result"
    }
   ],
   "source": [
    "block_zs_df.iloc[50:60]"
   ]
  },
  {
   "cell_type": "code",
   "execution_count": 150,
   "metadata": {},
   "outputs": [
    {
     "data": {
      "text/plain": [
       "486"
      ]
     },
     "execution_count": 150,
     "metadata": {},
     "output_type": "execute_result"
    }
   ],
   "source": [
    "len(block_zs_df)"
   ]
  },
  {
   "cell_type": "markdown",
   "metadata": {},
   "source": [
    "## 2.3 股票板块对应列表"
   ]
  },
  {
   "cell_type": "code",
   "execution_count": 7,
   "metadata": {},
   "outputs": [],
   "source": [
    "block_stock_path = \"C:/Users/ben_msi/abu/data/download/tdx/tdxhy.cfg\""
   ]
  },
  {
   "cell_type": "code",
   "execution_count": 8,
   "metadata": {},
   "outputs": [
    {
     "data": {
      "text/plain": [
       "[['1', '900952', 'T00', '0'],\n",
       " ['1', '900953', 'T00', '0'],\n",
       " ['1', '900955', 'T00', ''],\n",
       " ['1', '900956', 'T00', '0'],\n",
       " ['1', '900957', 'T00', '0']]"
      ]
     },
     "execution_count": 8,
     "metadata": {},
     "output_type": "execute_result"
    }
   ],
   "source": [
    "with open(block_stock_path, 'r') as f:\n",
    "    lines = f.readlines()\n",
    "    lines = [line.strip() for line in lines]\n",
    "    lines = [line.split('|') for line in lines]\n",
    "lines[-5:]"
   ]
  },
  {
   "cell_type": "code",
   "execution_count": 9,
   "metadata": {},
   "outputs": [
    {
     "data": {
      "text/html": [
       "<div>\n",
       "<style scoped>\n",
       "    .dataframe tbody tr th:only-of-type {\n",
       "        vertical-align: middle;\n",
       "    }\n",
       "\n",
       "    .dataframe tbody tr th {\n",
       "        vertical-align: top;\n",
       "    }\n",
       "\n",
       "    .dataframe thead th {\n",
       "        text-align: right;\n",
       "    }\n",
       "</style>\n",
       "<table border=\"1\" class=\"dataframe\">\n",
       "  <thead>\n",
       "    <tr style=\"text-align: right;\">\n",
       "      <th></th>\n",
       "      <th>sh_sz_indicator</th>\n",
       "      <th>stock_code</th>\n",
       "      <th>block_code</th>\n",
       "      <th>block_code_sw</th>\n",
       "    </tr>\n",
       "  </thead>\n",
       "  <tbody>\n",
       "    <tr>\n",
       "      <th>50</th>\n",
       "      <td>0</td>\n",
       "      <td>000062</td>\n",
       "      <td>T050107</td>\n",
       "      <td>450103</td>\n",
       "    </tr>\n",
       "    <tr>\n",
       "      <th>51</th>\n",
       "      <td>0</td>\n",
       "      <td>000063</td>\n",
       "      <td>T1202</td>\n",
       "      <td>320103</td>\n",
       "    </tr>\n",
       "    <tr>\n",
       "      <th>52</th>\n",
       "      <td>0</td>\n",
       "      <td>000065</td>\n",
       "      <td>T110101</td>\n",
       "      <td>250205</td>\n",
       "    </tr>\n",
       "    <tr>\n",
       "      <th>53</th>\n",
       "      <td>0</td>\n",
       "      <td>000066</td>\n",
       "      <td>T1201</td>\n",
       "      <td>320201</td>\n",
       "    </tr>\n",
       "    <tr>\n",
       "      <th>54</th>\n",
       "      <td>0</td>\n",
       "      <td>000068</td>\n",
       "      <td>T1204</td>\n",
       "      <td>270301</td>\n",
       "    </tr>\n",
       "    <tr>\n",
       "      <th>55</th>\n",
       "      <td>0</td>\n",
       "      <td>000069</td>\n",
       "      <td>T060502</td>\n",
       "      <td>460301</td>\n",
       "    </tr>\n",
       "    <tr>\n",
       "      <th>56</th>\n",
       "      <td>0</td>\n",
       "      <td>000070</td>\n",
       "      <td>T1202</td>\n",
       "      <td>320103</td>\n",
       "    </tr>\n",
       "    <tr>\n",
       "      <th>57</th>\n",
       "      <td>0</td>\n",
       "      <td>000078</td>\n",
       "      <td>T040502</td>\n",
       "      <td>370301</td>\n",
       "    </tr>\n",
       "    <tr>\n",
       "      <th>58</th>\n",
       "      <td>0</td>\n",
       "      <td>000088</td>\n",
       "      <td>T090303</td>\n",
       "      <td>420101</td>\n",
       "    </tr>\n",
       "    <tr>\n",
       "      <th>59</th>\n",
       "      <td>0</td>\n",
       "      <td>000089</td>\n",
       "      <td>T090302</td>\n",
       "      <td>420501</td>\n",
       "    </tr>\n",
       "  </tbody>\n",
       "</table>\n",
       "</div>"
      ],
      "text/plain": [
       "   sh_sz_indicator stock_code block_code block_code_sw\n",
       "50               0     000062    T050107        450103\n",
       "51               0     000063      T1202        320103\n",
       "52               0     000065    T110101        250205\n",
       "53               0     000066      T1201        320201\n",
       "54               0     000068      T1204        270301\n",
       "55               0     000069    T060502        460301\n",
       "56               0     000070      T1202        320103\n",
       "57               0     000078    T040502        370301\n",
       "58               0     000088    T090303        420101\n",
       "59               0     000089    T090302        420501"
      ]
     },
     "execution_count": 9,
     "metadata": {},
     "output_type": "execute_result"
    }
   ],
   "source": [
    "cols = ['sh_sz_indicator', 'stock_code', 'block_code', 'block_code_sw']\n",
    "block_df = pd.DataFrame(lines, columns=cols)\n",
    "block_df.iloc[50:60]"
   ]
  },
  {
   "cell_type": "code",
   "execution_count": 140,
   "metadata": {},
   "outputs": [
    {
     "data": {
      "text/plain": [
       "3691"
      ]
     },
     "execution_count": 140,
     "metadata": {},
     "output_type": "execute_result"
    }
   ],
   "source": [
    "len(lines)"
   ]
  },
  {
   "cell_type": "code",
   "execution_count": 11,
   "metadata": {},
   "outputs": [],
   "source": [
    "import pickle"
   ]
  },
  {
   "cell_type": "code",
   "execution_count": 12,
   "metadata": {},
   "outputs": [],
   "source": [
    "# get stock list\n",
    "tdx_path = 'C:/Users/ben_msi/abu/data/download/tdx/'\n",
    "stock_list = pickle.load(open(tdx_path + 'stock_list.pkl', 'rb'))"
   ]
  },
  {
   "cell_type": "code",
   "execution_count": 15,
   "metadata": {},
   "outputs": [],
   "source": [
    "df_com = pd.DataFrame({'stock_code': stock_list})"
   ]
  },
  {
   "cell_type": "code",
   "execution_count": 16,
   "metadata": {},
   "outputs": [
    {
     "data": {
      "text/html": [
       "<div>\n",
       "<style scoped>\n",
       "    .dataframe tbody tr th:only-of-type {\n",
       "        vertical-align: middle;\n",
       "    }\n",
       "\n",
       "    .dataframe tbody tr th {\n",
       "        vertical-align: top;\n",
       "    }\n",
       "\n",
       "    .dataframe thead th {\n",
       "        text-align: right;\n",
       "    }\n",
       "</style>\n",
       "<table border=\"1\" class=\"dataframe\">\n",
       "  <thead>\n",
       "    <tr style=\"text-align: right;\">\n",
       "      <th></th>\n",
       "      <th>stock_code</th>\n",
       "      <th>block_code</th>\n",
       "      <th>block_idx_code</th>\n",
       "      <th>block_idx_name</th>\n",
       "      <th>sh_sz_indicator</th>\n",
       "    </tr>\n",
       "  </thead>\n",
       "  <tbody>\n",
       "    <tr>\n",
       "      <th>0</th>\n",
       "      <td>000001</td>\n",
       "      <td>T060101</td>\n",
       "      <td>880419</td>\n",
       "      <td>出版业</td>\n",
       "      <td>1</td>\n",
       "    </tr>\n",
       "    <tr>\n",
       "      <th>1</th>\n",
       "      <td>000002</td>\n",
       "      <td>T060101</td>\n",
       "      <td>880419</td>\n",
       "      <td>出版业</td>\n",
       "      <td>1</td>\n",
       "    </tr>\n",
       "    <tr>\n",
       "      <th>2</th>\n",
       "      <td>000004</td>\n",
       "      <td>T060101</td>\n",
       "      <td>880419</td>\n",
       "      <td>出版业</td>\n",
       "      <td>1</td>\n",
       "    </tr>\n",
       "    <tr>\n",
       "      <th>3</th>\n",
       "      <td>000005</td>\n",
       "      <td>T060101</td>\n",
       "      <td>880419</td>\n",
       "      <td>出版业</td>\n",
       "      <td>1</td>\n",
       "    </tr>\n",
       "    <tr>\n",
       "      <th>4</th>\n",
       "      <td>000006</td>\n",
       "      <td>T060101</td>\n",
       "      <td>880419</td>\n",
       "      <td>出版业</td>\n",
       "      <td>1</td>\n",
       "    </tr>\n",
       "  </tbody>\n",
       "</table>\n",
       "</div>"
      ],
      "text/plain": [
       "  stock_code block_code block_idx_code block_idx_name sh_sz_indicator\n",
       "0     000001    T060101         880419            出版业               1\n",
       "1     000002    T060101         880419            出版业               1\n",
       "2     000004    T060101         880419            出版业               1\n",
       "3     000005    T060101         880419            出版业               1\n",
       "4     000006    T060101         880419            出版业               1"
      ]
     },
     "execution_count": 16,
     "metadata": {},
     "output_type": "execute_result"
    }
   ],
   "source": [
    "problem_list = []\n",
    "for stock in stock_list:\n",
    "    block_code = block_df[block_df['stock_code'] == stock]['block_code'].values[0]\n",
    "    sh_sz_indicator = block_df[block_df['stock_code'] == stock]['sh_sz_indicator'].values[0]\n",
    "    if block_code is not None:\n",
    "        block_idx_name = block_zs_df[block_zs_df.block_code == block_code].block_idx_name.values[0]\n",
    "        block_idx_code = block_zs_df[block_zs_df.block_code == block_code].block_idx_code.values[0]\n",
    "        if block_idx_code is not None and block_idx_name is not None:\n",
    "            df_com['block_code'] = block_code\n",
    "            df_com['block_idx_code'] = block_idx_code\n",
    "            df_com['block_idx_name'] = block_idx_name\n",
    "            df_com['sh_sz_indicator'] = sh_sz_indicator\n",
    "        else:\n",
    "            problem_list.append(stock)\n",
    "    else:\n",
    "        problem_list.append(stock)\n",
    "df_com.head()"
   ]
  },
  {
   "cell_type": "code",
   "execution_count": 17,
   "metadata": {},
   "outputs": [
    {
     "data": {
      "text/plain": [
       "0"
      ]
     },
     "execution_count": 17,
     "metadata": {},
     "output_type": "execute_result"
    }
   ],
   "source": [
    "len(problem_list)"
   ]
  },
  {
   "cell_type": "code",
   "execution_count": 155,
   "metadata": {},
   "outputs": [
    {
     "data": {
      "text/plain": [
       "3538"
      ]
     },
     "execution_count": 155,
     "metadata": {},
     "output_type": "execute_result"
    }
   ],
   "source": [
    "len(df_com)"
   ]
  },
  {
   "cell_type": "code",
   "execution_count": 18,
   "metadata": {},
   "outputs": [],
   "source": [
    "df_com.to_csv(tdx_path + 'tdx_stock_block_mapping.csv', encoding='utf_8_sig')"
   ]
  },
  {
   "cell_type": "code",
   "execution_count": null,
   "metadata": {},
   "outputs": [],
   "source": []
  },
  {
   "cell_type": "code",
   "execution_count": null,
   "metadata": {},
   "outputs": [],
   "source": []
  },
  {
   "cell_type": "code",
   "execution_count": null,
   "metadata": {},
   "outputs": [],
   "source": []
  },
  {
   "cell_type": "code",
   "execution_count": null,
   "metadata": {},
   "outputs": [],
   "source": []
  },
  {
   "cell_type": "code",
   "execution_count": null,
   "metadata": {},
   "outputs": [],
   "source": []
  },
  {
   "cell_type": "code",
   "execution_count": null,
   "metadata": {},
   "outputs": [],
   "source": []
  },
  {
   "cell_type": "code",
   "execution_count": null,
   "metadata": {},
   "outputs": [],
   "source": []
  },
  {
   "cell_type": "code",
   "execution_count": null,
   "metadata": {},
   "outputs": [],
   "source": []
  },
  {
   "cell_type": "code",
   "execution_count": null,
   "metadata": {},
   "outputs": [],
   "source": []
  },
  {
   "cell_type": "code",
   "execution_count": null,
   "metadata": {},
   "outputs": [],
   "source": []
  },
  {
   "cell_type": "code",
   "execution_count": 34,
   "metadata": {},
   "outputs": [],
   "source": [
    "block_df.to_csv(path_to_save + 'block_idx_tdx.csv', encoding='utf_8_sig')"
   ]
  },
  {
   "cell_type": "code",
   "execution_count": 36,
   "metadata": {},
   "outputs": [],
   "source": [
    "block_idx_code_list = block_df['block_idx_code'].tolist()"
   ]
  },
  {
   "cell_type": "code",
   "execution_count": 37,
   "metadata": {},
   "outputs": [
    {
     "data": {
      "text/plain": [
       "['880201',\n",
       " '880202',\n",
       " '880203',\n",
       " '880204',\n",
       " '880205',\n",
       " '880206',\n",
       " '880207',\n",
       " '880208',\n",
       " '880209',\n",
       " '880210']"
      ]
     },
     "execution_count": 37,
     "metadata": {},
     "output_type": "execute_result"
    }
   ],
   "source": [
    "block_idx_code_list[:10]"
   ]
  },
  {
   "cell_type": "code",
   "execution_count": 38,
   "metadata": {},
   "outputs": [],
   "source": [
    "import pickle "
   ]
  },
  {
   "cell_type": "code",
   "execution_count": 40,
   "metadata": {},
   "outputs": [],
   "source": [
    "pickle.dump(block_idx_code_list, open(path_to_save + 'block_idx_code_list.pkl', 'wb'))"
   ]
  },
  {
   "cell_type": "markdown",
   "metadata": {},
   "source": [
    "# 3. Financial data"
   ]
  },
  {
   "cell_type": "code",
   "execution_count": 128,
   "metadata": {},
   "outputs": [],
   "source": [
    "import QUANTAXIS as QA\n",
    "import pandas as pd"
   ]
  },
  {
   "cell_type": "code",
   "execution_count": 129,
   "metadata": {},
   "outputs": [],
   "source": [
    "from QUANTAXIS.QAFetch.QATdx import QA_fetch_get_stock_block, QA_fetch_get_stock_list,QA_fetch_get_index_day, QA_fetch_get_index_list\n",
    "from QUANTAXIS.QASU.main import QA_SU_save_stock_info, QA_SU_save_block_index_day\n",
    "from QUANTAXIS.QAFetch.QAQuery import QA_fetch_block_index_day\n",
    "from QUANTAXIS.QAFetch.QAQuery_Advance import QA_fetch_stock_day_ts_adv"
   ]
  },
  {
   "cell_type": "code",
   "execution_count": 3,
   "metadata": {},
   "outputs": [],
   "source": [
    "fin_df = QA.QA_fetch_financial_report_adv('000651', '2013-01-01','2018-07-21')"
   ]
  },
  {
   "cell_type": "code",
   "execution_count": 5,
   "metadata": {},
   "outputs": [],
   "source": [
    "fin_df = fin_df.data"
   ]
  },
  {
   "cell_type": "code",
   "execution_count": 6,
   "metadata": {},
   "outputs": [
    {
     "data": {
      "text/html": [
       "<div>\n",
       "<style scoped>\n",
       "    .dataframe tbody tr th:only-of-type {\n",
       "        vertical-align: middle;\n",
       "    }\n",
       "\n",
       "    .dataframe tbody tr th {\n",
       "        vertical-align: top;\n",
       "    }\n",
       "\n",
       "    .dataframe thead th {\n",
       "        text-align: right;\n",
       "    }\n",
       "</style>\n",
       "<table border=\"1\" class=\"dataframe\">\n",
       "  <thead>\n",
       "    <tr style=\"text-align: right;\">\n",
       "      <th></th>\n",
       "      <th></th>\n",
       "      <th>tangibleAssetDebtRatio</th>\n",
       "      <th>rateOfReturnOnInvestmentIncome</th>\n",
       "      <th>listedHShares</th>\n",
       "      <th>taxAndSurcharges</th>\n",
       "      <th>pensionInsuranceAgencyShareholfing</th>\n",
       "      <th>institutionShareholding</th>\n",
       "      <th>equityTurnover</th>\n",
       "      <th>netCashFlowsFromInvestingActivitiesSingle</th>\n",
       "      <th>shareholdersInterest/InterestRateDebtRatio</th>\n",
       "      <th>nonOperatingExpenses</th>\n",
       "      <th>...</th>\n",
       "      <th>interCompanyReceivables</th>\n",
       "      <th>277</th>\n",
       "      <th>278</th>\n",
       "      <th>279</th>\n",
       "      <th>280</th>\n",
       "      <th>281</th>\n",
       "      <th>282</th>\n",
       "      <th>_id</th>\n",
       "      <th>code</th>\n",
       "      <th>report_date</th>\n",
       "    </tr>\n",
       "    <tr>\n",
       "      <th>report_date</th>\n",
       "      <th>code</th>\n",
       "      <th></th>\n",
       "      <th></th>\n",
       "      <th></th>\n",
       "      <th></th>\n",
       "      <th></th>\n",
       "      <th></th>\n",
       "      <th></th>\n",
       "      <th></th>\n",
       "      <th></th>\n",
       "      <th></th>\n",
       "      <th></th>\n",
       "      <th></th>\n",
       "      <th></th>\n",
       "      <th></th>\n",
       "      <th></th>\n",
       "      <th></th>\n",
       "      <th></th>\n",
       "      <th></th>\n",
       "      <th></th>\n",
       "      <th></th>\n",
       "      <th></th>\n",
       "    </tr>\n",
       "  </thead>\n",
       "  <tbody>\n",
       "    <tr>\n",
       "      <th>2015-12-31</th>\n",
       "      <th>000651</th>\n",
       "      <td>2.08</td>\n",
       "      <td>2.0500</td>\n",
       "      <td>6.27</td>\n",
       "      <td>7.8995</td>\n",
       "      <td>0.03</td>\n",
       "      <td>26.372000</td>\n",
       "      <td>7.377</td>\n",
       "      <td>8.881980e+10</td>\n",
       "      <td>NaN</td>\n",
       "      <td>1.487981e+10</td>\n",
       "      <td>...</td>\n",
       "      <td>1.253244e+10</td>\n",
       "      <td>NaN</td>\n",
       "      <td>NaN</td>\n",
       "      <td>2.0</td>\n",
       "      <td>264356464.0</td>\n",
       "      <td>27.309999</td>\n",
       "      <td>0.4219</td>\n",
       "      <td>5b5bb2e1af1137018469a473</td>\n",
       "      <td>000651</td>\n",
       "      <td>2015-12-31</td>\n",
       "    </tr>\n",
       "    <tr>\n",
       "      <th>2016-03-31</th>\n",
       "      <th>000651</th>\n",
       "      <td>0.53</td>\n",
       "      <td>0.5208</td>\n",
       "      <td>6.80</td>\n",
       "      <td>8.4267</td>\n",
       "      <td>0.03</td>\n",
       "      <td>6.233000</td>\n",
       "      <td>1.017</td>\n",
       "      <td>9.628353e+10</td>\n",
       "      <td>NaN</td>\n",
       "      <td>1.711114e+10</td>\n",
       "      <td>...</td>\n",
       "      <td>1.291690e+10</td>\n",
       "      <td>NaN</td>\n",
       "      <td>NaN</td>\n",
       "      <td>2.0</td>\n",
       "      <td>264356464.0</td>\n",
       "      <td>6.430000</td>\n",
       "      <td>0.5209</td>\n",
       "      <td>5b5bb2e4af1137018469b239</td>\n",
       "      <td>000651</td>\n",
       "      <td>2016-03-31</td>\n",
       "    </tr>\n",
       "    <tr>\n",
       "      <th>2016-06-30</th>\n",
       "      <th>000651</th>\n",
       "      <td>1.06</td>\n",
       "      <td>1.1700</td>\n",
       "      <td>5.84</td>\n",
       "      <td>7.4658</td>\n",
       "      <td>0.03</td>\n",
       "      <td>14.255000</td>\n",
       "      <td>1.904</td>\n",
       "      <td>9.942134e+10</td>\n",
       "      <td>NaN</td>\n",
       "      <td>1.077572e+10</td>\n",
       "      <td>...</td>\n",
       "      <td>1.321416e+10</td>\n",
       "      <td>NaN</td>\n",
       "      <td>NaN</td>\n",
       "      <td>2.0</td>\n",
       "      <td>264356464.0</td>\n",
       "      <td>12.620000</td>\n",
       "      <td>0.6518</td>\n",
       "      <td>5b5bb2e7af1137018469bd8a</td>\n",
       "      <td>000651</td>\n",
       "      <td>2016-06-30</td>\n",
       "    </tr>\n",
       "    <tr>\n",
       "      <th>2016-09-30</th>\n",
       "      <th>000651</th>\n",
       "      <td>1.87</td>\n",
       "      <td>1.9539</td>\n",
       "      <td>6.64</td>\n",
       "      <td>8.2692</td>\n",
       "      <td>0.03</td>\n",
       "      <td>22.573000</td>\n",
       "      <td>2.354</td>\n",
       "      <td>9.723368e+10</td>\n",
       "      <td>NaN</td>\n",
       "      <td>2.735516e+10</td>\n",
       "      <td>...</td>\n",
       "      <td>1.380878e+10</td>\n",
       "      <td>NaN</td>\n",
       "      <td>NaN</td>\n",
       "      <td>2.0</td>\n",
       "      <td>255750960.0</td>\n",
       "      <td>21.129999</td>\n",
       "      <td>0.7813</td>\n",
       "      <td>5b5bb2eaaf1137018469c99e</td>\n",
       "      <td>000651</td>\n",
       "      <td>2016-09-30</td>\n",
       "    </tr>\n",
       "    <tr>\n",
       "      <th>2016-12-31</th>\n",
       "      <th>000651</th>\n",
       "      <td>2.56</td>\n",
       "      <td>2.5900</td>\n",
       "      <td>7.33</td>\n",
       "      <td>8.9538</td>\n",
       "      <td>0.03</td>\n",
       "      <td>28.629999</td>\n",
       "      <td>2.470</td>\n",
       "      <td>9.561313e+10</td>\n",
       "      <td>NaN</td>\n",
       "      <td>2.996336e+10</td>\n",
       "      <td>...</td>\n",
       "      <td>1.542096e+10</td>\n",
       "      <td>NaN</td>\n",
       "      <td>NaN</td>\n",
       "      <td>3.0</td>\n",
       "      <td>352762752.0</td>\n",
       "      <td>30.410000</td>\n",
       "      <td>0.6393</td>\n",
       "      <td>5b5bb2edaf1137018469d5c5</td>\n",
       "      <td>000651</td>\n",
       "      <td>2016-12-31</td>\n",
       "    </tr>\n",
       "    <tr>\n",
       "      <th>2017-03-31</th>\n",
       "      <th>000651</th>\n",
       "      <td>0.67</td>\n",
       "      <td>0.6005</td>\n",
       "      <td>7.99</td>\n",
       "      <td>9.6192</td>\n",
       "      <td>0.03</td>\n",
       "      <td>6.938000</td>\n",
       "      <td>1.459</td>\n",
       "      <td>1.092701e+11</td>\n",
       "      <td>NaN</td>\n",
       "      <td>1.805461e+10</td>\n",
       "      <td>...</td>\n",
       "      <td>1.627569e+10</td>\n",
       "      <td>NaN</td>\n",
       "      <td>NaN</td>\n",
       "      <td>2.0</td>\n",
       "      <td>326587904.0</td>\n",
       "      <td>7.190000</td>\n",
       "      <td>0.6006</td>\n",
       "      <td>5b5bb2f0af1137018469e38c</td>\n",
       "      <td>000651</td>\n",
       "      <td>2017-03-31</td>\n",
       "    </tr>\n",
       "    <tr>\n",
       "      <th>2017-06-30</th>\n",
       "      <th>000651</th>\n",
       "      <td>1.57</td>\n",
       "      <td>1.5000</td>\n",
       "      <td>7.10</td>\n",
       "      <td>8.7202</td>\n",
       "      <td>0.03</td>\n",
       "      <td>18.018999</td>\n",
       "      <td>0.605</td>\n",
       "      <td>1.053178e+11</td>\n",
       "      <td>NaN</td>\n",
       "      <td>2.099638e+10</td>\n",
       "      <td>...</td>\n",
       "      <td>1.847098e+10</td>\n",
       "      <td>NaN</td>\n",
       "      <td>NaN</td>\n",
       "      <td>3.0</td>\n",
       "      <td>461542752.0</td>\n",
       "      <td>16.139999</td>\n",
       "      <td>0.8961</td>\n",
       "      <td>5b5bb2f3af1137018469f08a</td>\n",
       "      <td>000651</td>\n",
       "      <td>2017-06-30</td>\n",
       "    </tr>\n",
       "    <tr>\n",
       "      <th>2017-09-30</th>\n",
       "      <th>000651</th>\n",
       "      <td>2.57</td>\n",
       "      <td>2.5945</td>\n",
       "      <td>8.10</td>\n",
       "      <td>9.7451</td>\n",
       "      <td>0.03</td>\n",
       "      <td>26.372999</td>\n",
       "      <td>0.954</td>\n",
       "      <td>9.337923e+10</td>\n",
       "      <td>NaN</td>\n",
       "      <td>5.160442e+10</td>\n",
       "      <td>...</td>\n",
       "      <td>1.965261e+10</td>\n",
       "      <td>NaN</td>\n",
       "      <td>NaN</td>\n",
       "      <td>3.0</td>\n",
       "      <td>607909632.0</td>\n",
       "      <td>25.100000</td>\n",
       "      <td>1.0978</td>\n",
       "      <td>5b5bb2f6af1137018469fe1f</td>\n",
       "      <td>000651</td>\n",
       "      <td>2017-09-30</td>\n",
       "    </tr>\n",
       "    <tr>\n",
       "      <th>2017-12-31</th>\n",
       "      <th>000651</th>\n",
       "      <td>3.72</td>\n",
       "      <td>3.5200</td>\n",
       "      <td>9.27</td>\n",
       "      <td>10.9039</td>\n",
       "      <td>0.02</td>\n",
       "      <td>34.151001</td>\n",
       "      <td>2.719</td>\n",
       "      <td>9.961044e+10</td>\n",
       "      <td>602045568.0</td>\n",
       "      <td>3.225641e+10</td>\n",
       "      <td>...</td>\n",
       "      <td>2.240158e+10</td>\n",
       "      <td>NaN</td>\n",
       "      <td>NaN</td>\n",
       "      <td>3.0</td>\n",
       "      <td>758083840.0</td>\n",
       "      <td>37.439999</td>\n",
       "      <td>0.9246</td>\n",
       "      <td>5b5bb2f9af113701846a0bba</td>\n",
       "      <td>000651</td>\n",
       "      <td>2017-12-31</td>\n",
       "    </tr>\n",
       "    <tr>\n",
       "      <th>2018-03-31</th>\n",
       "      <th>000651</th>\n",
       "      <td>0.93</td>\n",
       "      <td>0.6958</td>\n",
       "      <td>10.19</td>\n",
       "      <td>11.7892</td>\n",
       "      <td>0.02</td>\n",
       "      <td>7.870000</td>\n",
       "      <td>2.387</td>\n",
       "      <td>1.051754e+11</td>\n",
       "      <td>305093376.0</td>\n",
       "      <td>2.156094e+10</td>\n",
       "      <td>...</td>\n",
       "      <td>2.396866e+10</td>\n",
       "      <td>NaN</td>\n",
       "      <td>NaN</td>\n",
       "      <td>3.0</td>\n",
       "      <td>784419328.0</td>\n",
       "      <td>8.180000</td>\n",
       "      <td>0.6958</td>\n",
       "      <td>5b5bb2fcaf113701846a197f</td>\n",
       "      <td>000651</td>\n",
       "      <td>2018-03-31</td>\n",
       "    </tr>\n",
       "  </tbody>\n",
       "</table>\n",
       "<p>10 rows × 285 columns</p>\n",
       "</div>"
      ],
      "text/plain": [
       "                    tangibleAssetDebtRatio   rateOfReturnOnInvestmentIncome  \\\n",
       "report_date code                                                              \n",
       "2015-12-31  000651                     2.08                          2.0500   \n",
       "2016-03-31  000651                     0.53                          0.5208   \n",
       "2016-06-30  000651                     1.06                          1.1700   \n",
       "2016-09-30  000651                     1.87                          1.9539   \n",
       "2016-12-31  000651                     2.56                          2.5900   \n",
       "2017-03-31  000651                     0.67                          0.6005   \n",
       "2017-06-30  000651                     1.57                          1.5000   \n",
       "2017-09-30  000651                     2.57                          2.5945   \n",
       "2017-12-31  000651                     3.72                          3.5200   \n",
       "2018-03-31  000651                     0.93                          0.6958   \n",
       "\n",
       "                    listedHShares  taxAndSurcharges  \\\n",
       "report_date code                                      \n",
       "2015-12-31  000651           6.27            7.8995   \n",
       "2016-03-31  000651           6.80            8.4267   \n",
       "2016-06-30  000651           5.84            7.4658   \n",
       "2016-09-30  000651           6.64            8.2692   \n",
       "2016-12-31  000651           7.33            8.9538   \n",
       "2017-03-31  000651           7.99            9.6192   \n",
       "2017-06-30  000651           7.10            8.7202   \n",
       "2017-09-30  000651           8.10            9.7451   \n",
       "2017-12-31  000651           9.27           10.9039   \n",
       "2018-03-31  000651          10.19           11.7892   \n",
       "\n",
       "                    pensionInsuranceAgencyShareholfing  \\\n",
       "report_date code                                         \n",
       "2015-12-31  000651                                0.03   \n",
       "2016-03-31  000651                                0.03   \n",
       "2016-06-30  000651                                0.03   \n",
       "2016-09-30  000651                                0.03   \n",
       "2016-12-31  000651                                0.03   \n",
       "2017-03-31  000651                                0.03   \n",
       "2017-06-30  000651                                0.03   \n",
       "2017-09-30  000651                                0.03   \n",
       "2017-12-31  000651                                0.02   \n",
       "2018-03-31  000651                                0.02   \n",
       "\n",
       "                    institutionShareholding  equityTurnover  \\\n",
       "report_date code                                              \n",
       "2015-12-31  000651                26.372000           7.377   \n",
       "2016-03-31  000651                 6.233000           1.017   \n",
       "2016-06-30  000651                14.255000           1.904   \n",
       "2016-09-30  000651                22.573000           2.354   \n",
       "2016-12-31  000651                28.629999           2.470   \n",
       "2017-03-31  000651                 6.938000           1.459   \n",
       "2017-06-30  000651                18.018999           0.605   \n",
       "2017-09-30  000651                26.372999           0.954   \n",
       "2017-12-31  000651                34.151001           2.719   \n",
       "2018-03-31  000651                 7.870000           2.387   \n",
       "\n",
       "                    netCashFlowsFromInvestingActivitiesSingle  \\\n",
       "report_date code                                                \n",
       "2015-12-31  000651                               8.881980e+10   \n",
       "2016-03-31  000651                               9.628353e+10   \n",
       "2016-06-30  000651                               9.942134e+10   \n",
       "2016-09-30  000651                               9.723368e+10   \n",
       "2016-12-31  000651                               9.561313e+10   \n",
       "2017-03-31  000651                               1.092701e+11   \n",
       "2017-06-30  000651                               1.053178e+11   \n",
       "2017-09-30  000651                               9.337923e+10   \n",
       "2017-12-31  000651                               9.961044e+10   \n",
       "2018-03-31  000651                               1.051754e+11   \n",
       "\n",
       "                    shareholdersInterest/InterestRateDebtRatio  \\\n",
       "report_date code                                                 \n",
       "2015-12-31  000651                                         NaN   \n",
       "2016-03-31  000651                                         NaN   \n",
       "2016-06-30  000651                                         NaN   \n",
       "2016-09-30  000651                                         NaN   \n",
       "2016-12-31  000651                                         NaN   \n",
       "2017-03-31  000651                                         NaN   \n",
       "2017-06-30  000651                                         NaN   \n",
       "2017-09-30  000651                                         NaN   \n",
       "2017-12-31  000651                                 602045568.0   \n",
       "2018-03-31  000651                                 305093376.0   \n",
       "\n",
       "                    nonOperatingExpenses     ...       \\\n",
       "report_date code                             ...        \n",
       "2015-12-31  000651          1.487981e+10     ...        \n",
       "2016-03-31  000651          1.711114e+10     ...        \n",
       "2016-06-30  000651          1.077572e+10     ...        \n",
       "2016-09-30  000651          2.735516e+10     ...        \n",
       "2016-12-31  000651          2.996336e+10     ...        \n",
       "2017-03-31  000651          1.805461e+10     ...        \n",
       "2017-06-30  000651          2.099638e+10     ...        \n",
       "2017-09-30  000651          5.160442e+10     ...        \n",
       "2017-12-31  000651          3.225641e+10     ...        \n",
       "2018-03-31  000651          2.156094e+10     ...        \n",
       "\n",
       "                    interCompanyReceivables  277  278  279          280  \\\n",
       "report_date code                                                          \n",
       "2015-12-31  000651             1.253244e+10  NaN  NaN  2.0  264356464.0   \n",
       "2016-03-31  000651             1.291690e+10  NaN  NaN  2.0  264356464.0   \n",
       "2016-06-30  000651             1.321416e+10  NaN  NaN  2.0  264356464.0   \n",
       "2016-09-30  000651             1.380878e+10  NaN  NaN  2.0  255750960.0   \n",
       "2016-12-31  000651             1.542096e+10  NaN  NaN  3.0  352762752.0   \n",
       "2017-03-31  000651             1.627569e+10  NaN  NaN  2.0  326587904.0   \n",
       "2017-06-30  000651             1.847098e+10  NaN  NaN  3.0  461542752.0   \n",
       "2017-09-30  000651             1.965261e+10  NaN  NaN  3.0  607909632.0   \n",
       "2017-12-31  000651             2.240158e+10  NaN  NaN  3.0  758083840.0   \n",
       "2018-03-31  000651             2.396866e+10  NaN  NaN  3.0  784419328.0   \n",
       "\n",
       "                          281     282                       _id    code  \\\n",
       "report_date code                                                          \n",
       "2015-12-31  000651  27.309999  0.4219  5b5bb2e1af1137018469a473  000651   \n",
       "2016-03-31  000651   6.430000  0.5209  5b5bb2e4af1137018469b239  000651   \n",
       "2016-06-30  000651  12.620000  0.6518  5b5bb2e7af1137018469bd8a  000651   \n",
       "2016-09-30  000651  21.129999  0.7813  5b5bb2eaaf1137018469c99e  000651   \n",
       "2016-12-31  000651  30.410000  0.6393  5b5bb2edaf1137018469d5c5  000651   \n",
       "2017-03-31  000651   7.190000  0.6006  5b5bb2f0af1137018469e38c  000651   \n",
       "2017-06-30  000651  16.139999  0.8961  5b5bb2f3af1137018469f08a  000651   \n",
       "2017-09-30  000651  25.100000  1.0978  5b5bb2f6af1137018469fe1f  000651   \n",
       "2017-12-31  000651  37.439999  0.9246  5b5bb2f9af113701846a0bba  000651   \n",
       "2018-03-31  000651   8.180000  0.6958  5b5bb2fcaf113701846a197f  000651   \n",
       "\n",
       "                    report_date  \n",
       "report_date code                 \n",
       "2015-12-31  000651   2015-12-31  \n",
       "2016-03-31  000651   2016-03-31  \n",
       "2016-06-30  000651   2016-06-30  \n",
       "2016-09-30  000651   2016-09-30  \n",
       "2016-12-31  000651   2016-12-31  \n",
       "2017-03-31  000651   2017-03-31  \n",
       "2017-06-30  000651   2017-06-30  \n",
       "2017-09-30  000651   2017-09-30  \n",
       "2017-12-31  000651   2017-12-31  \n",
       "2018-03-31  000651   2018-03-31  \n",
       "\n",
       "[10 rows x 285 columns]"
      ]
     },
     "execution_count": 6,
     "metadata": {},
     "output_type": "execute_result"
    }
   ],
   "source": [
    "fin_df.tail(10)"
   ]
  },
  {
   "cell_type": "markdown",
   "metadata": {},
   "source": [
    "## 3.1) define useful columns to extract interested financial data"
   ]
  },
  {
   "cell_type": "code",
   "execution_count": null,
   "metadata": {},
   "outputs": [],
   "source": []
  },
  {
   "cell_type": "code",
   "execution_count": null,
   "metadata": {},
   "outputs": [],
   "source": []
  },
  {
   "cell_type": "code",
   "execution_count": null,
   "metadata": {},
   "outputs": [],
   "source": []
  },
  {
   "cell_type": "markdown",
   "metadata": {},
   "source": [
    "# 4. export Block data into csv files"
   ]
  },
  {
   "cell_type": "code",
   "execution_count": 10,
   "metadata": {},
   "outputs": [],
   "source": [
    "import pickle\n",
    "path_to_read = \"C:/Users/ben_msi/abu/data/download/tdx/\"\n",
    "block_file_list = path_to_read + 'block_idx_code_list.pkl'\n",
    "path_to_save = \"C:/Users/ben_msi/abu/data/download/tdx/block_index/\""
   ]
  },
  {
   "cell_type": "code",
   "execution_count": 11,
   "metadata": {},
   "outputs": [],
   "source": [
    "block_list = pickle.load(open(block_file_list, 'rb'))"
   ]
  },
  {
   "cell_type": "code",
   "execution_count": 13,
   "metadata": {},
   "outputs": [],
   "source": [
    "for block in block_list:\n",
    "    df_block = QA_fetch_block_index_day(block, '1990-01-01', '2018-07-27', format='pd')\n",
    "    df_block.to_csv(path_to_save + str(block) + '.csv', encoding='utf_8_sig')"
   ]
  },
  {
   "cell_type": "markdown",
   "metadata": {},
   "source": [
    "## 4.2 generate block name to index mapping dict"
   ]
  },
  {
   "cell_type": "code",
   "execution_count": 14,
   "metadata": {},
   "outputs": [],
   "source": [
    "path_to_read = \"C:/Users/ben_msi/abu/data/download/tdx/\"\n",
    "file_name = path_to_read + 'block_idx_tdx.csv'"
   ]
  },
  {
   "cell_type": "code",
   "execution_count": 19,
   "metadata": {},
   "outputs": [],
   "source": [
    "block_mapping_df = pd.read_csv(file_name, index_col=0)"
   ]
  },
  {
   "cell_type": "code",
   "execution_count": 20,
   "metadata": {},
   "outputs": [
    {
     "data": {
      "text/html": [
       "<div>\n",
       "<style scoped>\n",
       "    .dataframe tbody tr th:only-of-type {\n",
       "        vertical-align: middle;\n",
       "    }\n",
       "\n",
       "    .dataframe tbody tr th {\n",
       "        vertical-align: top;\n",
       "    }\n",
       "\n",
       "    .dataframe thead th {\n",
       "        text-align: right;\n",
       "    }\n",
       "</style>\n",
       "<table border=\"1\" class=\"dataframe\">\n",
       "  <thead>\n",
       "    <tr style=\"text-align: right;\">\n",
       "      <th></th>\n",
       "      <th>block_idx_name</th>\n",
       "      <th>block_idx_code</th>\n",
       "      <th>type</th>\n",
       "      <th>unknown</th>\n",
       "      <th>unknown.1</th>\n",
       "      <th>block_code</th>\n",
       "    </tr>\n",
       "  </thead>\n",
       "  <tbody>\n",
       "    <tr>\n",
       "      <th>0</th>\n",
       "      <td>黑龙江</td>\n",
       "      <td>880201</td>\n",
       "      <td>3</td>\n",
       "      <td>1</td>\n",
       "      <td>0</td>\n",
       "      <td>1</td>\n",
       "    </tr>\n",
       "    <tr>\n",
       "      <th>1</th>\n",
       "      <td>新疆板块</td>\n",
       "      <td>880202</td>\n",
       "      <td>3</td>\n",
       "      <td>1</td>\n",
       "      <td>0</td>\n",
       "      <td>2</td>\n",
       "    </tr>\n",
       "    <tr>\n",
       "      <th>2</th>\n",
       "      <td>吉林板块</td>\n",
       "      <td>880203</td>\n",
       "      <td>3</td>\n",
       "      <td>1</td>\n",
       "      <td>0</td>\n",
       "      <td>3</td>\n",
       "    </tr>\n",
       "    <tr>\n",
       "      <th>3</th>\n",
       "      <td>甘肃板块</td>\n",
       "      <td>880204</td>\n",
       "      <td>3</td>\n",
       "      <td>1</td>\n",
       "      <td>0</td>\n",
       "      <td>4</td>\n",
       "    </tr>\n",
       "    <tr>\n",
       "      <th>4</th>\n",
       "      <td>辽宁板块</td>\n",
       "      <td>880205</td>\n",
       "      <td>3</td>\n",
       "      <td>1</td>\n",
       "      <td>0</td>\n",
       "      <td>5</td>\n",
       "    </tr>\n",
       "  </tbody>\n",
       "</table>\n",
       "</div>"
      ],
      "text/plain": [
       "  block_idx_name  block_idx_code  type  unknown  unknown.1 block_code\n",
       "0            黑龙江          880201     3        1          0          1\n",
       "1           新疆板块          880202     3        1          0          2\n",
       "2           吉林板块          880203     3        1          0          3\n",
       "3           甘肃板块          880204     3        1          0          4\n",
       "4           辽宁板块          880205     3        1          0          5"
      ]
     },
     "execution_count": 20,
     "metadata": {},
     "output_type": "execute_result"
    }
   ],
   "source": [
    "block_mapping_df.head()"
   ]
  },
  {
   "cell_type": "code",
   "execution_count": 21,
   "metadata": {},
   "outputs": [],
   "source": [
    "block_name2code_dict = dict(zip(block_mapping_df.block_idx_name, block_mapping_df.block_idx_code))"
   ]
  },
  {
   "cell_type": "code",
   "execution_count": 24,
   "metadata": {},
   "outputs": [
    {
     "data": {
      "text/plain": [
       "880203"
      ]
     },
     "execution_count": 24,
     "metadata": {},
     "output_type": "execute_result"
    }
   ],
   "source": [
    "block_name2code_dict['吉林板块']"
   ]
  },
  {
   "cell_type": "code",
   "execution_count": 25,
   "metadata": {},
   "outputs": [],
   "source": [
    "file2save = path_to_read + 'block_name2code_dict.pkl'"
   ]
  },
  {
   "cell_type": "code",
   "execution_count": 26,
   "metadata": {},
   "outputs": [],
   "source": [
    "pickle.dump(block_name2code_dict, open(file2save, 'wb'))"
   ]
  },
  {
   "cell_type": "markdown",
   "metadata": {},
   "source": [
    "# 5. export stock trading data into csv files\n"
   ]
  },
  {
   "cell_type": "code",
   "execution_count": 7,
   "metadata": {},
   "outputs": [],
   "source": [
    "# get stock list\n",
    "stock_list_1 = QA.QA_fetch_stock_list_adv().code.tolist()"
   ]
  },
  {
   "cell_type": "code",
   "execution_count": 9,
   "metadata": {},
   "outputs": [
    {
     "data": {
      "text/plain": [
       "3538"
      ]
     },
     "execution_count": 9,
     "metadata": {},
     "output_type": "execute_result"
    }
   ],
   "source": [
    "len(stock_list_1)"
   ]
  },
  {
   "cell_type": "code",
   "execution_count": 15,
   "metadata": {},
   "outputs": [],
   "source": [
    "file_stocklist = \"C:/Users/ben_msi/abu/data/download/tdx/stock_list.pkl\""
   ]
  },
  {
   "cell_type": "code",
   "execution_count": 17,
   "metadata": {},
   "outputs": [],
   "source": [
    "import pickle\n",
    "pickle.dump(stock_list_1, open(file_stocklist, 'wb'))"
   ]
  },
  {
   "cell_type": "code",
   "execution_count": 18,
   "metadata": {},
   "outputs": [],
   "source": [
    "path_to_save = \"C:/Users/ben_msi/abu/data/download/tdx/stock_day_20180727/\""
   ]
  },
  {
   "cell_type": "code",
   "execution_count": 20,
   "metadata": {},
   "outputs": [
    {
     "data": {
      "text/plain": [
       "'000036'"
      ]
     },
     "execution_count": 20,
     "metadata": {},
     "output_type": "execute_result"
    }
   ],
   "source": [
    "stock_id = stock_list_1[30]\n",
    "stock_id"
   ]
  },
  {
   "cell_type": "code",
   "execution_count": 90,
   "metadata": {},
   "outputs": [],
   "source": [
    "# 1 fetch data from db\n",
    "stock_df = QA.QA_fetch_stock_day_adv('000922')"
   ]
  },
  {
   "cell_type": "code",
   "execution_count": 24,
   "metadata": {},
   "outputs": [
    {
     "data": {
      "text/plain": [
       "QUANTAXIS.QAData.QADataStruct.QA_DataStruct_Stock_day"
      ]
     },
     "execution_count": 24,
     "metadata": {},
     "output_type": "execute_result"
    }
   ],
   "source": [
    "type(stock_df)"
   ]
  },
  {
   "cell_type": "code",
   "execution_count": 91,
   "metadata": {},
   "outputs": [],
   "source": [
    "stock_df_qfq = stock_df.to_qfq()"
   ]
  },
  {
   "cell_type": "code",
   "execution_count": 28,
   "metadata": {},
   "outputs": [
    {
     "data": {
      "text/html": [
       "<div>\n",
       "<style scoped>\n",
       "    .dataframe tbody tr th:only-of-type {\n",
       "        vertical-align: middle;\n",
       "    }\n",
       "\n",
       "    .dataframe tbody tr th {\n",
       "        vertical-align: top;\n",
       "    }\n",
       "\n",
       "    .dataframe thead th {\n",
       "        text-align: right;\n",
       "    }\n",
       "</style>\n",
       "<table border=\"1\" class=\"dataframe\">\n",
       "  <thead>\n",
       "    <tr style=\"text-align: right;\">\n",
       "      <th></th>\n",
       "      <th></th>\n",
       "      <th>open</th>\n",
       "      <th>high</th>\n",
       "      <th>low</th>\n",
       "      <th>close</th>\n",
       "      <th>volume</th>\n",
       "      <th>amount</th>\n",
       "      <th>preclose</th>\n",
       "      <th>adj</th>\n",
       "    </tr>\n",
       "    <tr>\n",
       "      <th>date</th>\n",
       "      <th>code</th>\n",
       "      <th></th>\n",
       "      <th></th>\n",
       "      <th></th>\n",
       "      <th></th>\n",
       "      <th></th>\n",
       "      <th></th>\n",
       "      <th></th>\n",
       "      <th></th>\n",
       "    </tr>\n",
       "  </thead>\n",
       "  <tbody>\n",
       "    <tr>\n",
       "      <th>1994-06-17</th>\n",
       "      <th>000036</th>\n",
       "      <td>0.625010</td>\n",
       "      <td>0.694456</td>\n",
       "      <td>0.557301</td>\n",
       "      <td>0.680567</td>\n",
       "      <td>789953.726982</td>\n",
       "      <td>49869236.0</td>\n",
       "      <td>NaN</td>\n",
       "      <td>0.173614</td>\n",
       "    </tr>\n",
       "    <tr>\n",
       "      <th>1994-06-20</th>\n",
       "      <th>000036</th>\n",
       "      <td>0.659733</td>\n",
       "      <td>0.677094</td>\n",
       "      <td>0.604177</td>\n",
       "      <td>0.612857</td>\n",
       "      <td>454606.282717</td>\n",
       "      <td>29615056.0</td>\n",
       "      <td>0.680567</td>\n",
       "      <td>0.173614</td>\n",
       "    </tr>\n",
       "    <tr>\n",
       "      <th>1994-06-21</th>\n",
       "      <th>000036</th>\n",
       "      <td>0.607649</td>\n",
       "      <td>0.625010</td>\n",
       "      <td>0.598968</td>\n",
       "      <td>0.605913</td>\n",
       "      <td>116540.163168</td>\n",
       "      <td>7133051.5</td>\n",
       "      <td>0.612857</td>\n",
       "      <td>0.173614</td>\n",
       "    </tr>\n",
       "    <tr>\n",
       "      <th>1994-06-22</th>\n",
       "      <th>000036</th>\n",
       "      <td>0.607649</td>\n",
       "      <td>0.633691</td>\n",
       "      <td>0.607649</td>\n",
       "      <td>0.614593</td>\n",
       "      <td>95769.944793</td>\n",
       "      <td>5926312.0</td>\n",
       "      <td>0.605913</td>\n",
       "      <td>0.173614</td>\n",
       "    </tr>\n",
       "    <tr>\n",
       "      <th>1994-06-23</th>\n",
       "      <th>000036</th>\n",
       "      <td>0.614593</td>\n",
       "      <td>0.623274</td>\n",
       "      <td>0.595496</td>\n",
       "      <td>0.597232</td>\n",
       "      <td>55272.050895</td>\n",
       "      <td>3336894.0</td>\n",
       "      <td>0.614593</td>\n",
       "      <td>0.173614</td>\n",
       "    </tr>\n",
       "  </tbody>\n",
       "</table>\n",
       "</div>"
      ],
      "text/plain": [
       "                       open      high       low     close         volume  \\\n",
       "date       code                                                            \n",
       "1994-06-17 000036  0.625010  0.694456  0.557301  0.680567  789953.726982   \n",
       "1994-06-20 000036  0.659733  0.677094  0.604177  0.612857  454606.282717   \n",
       "1994-06-21 000036  0.607649  0.625010  0.598968  0.605913  116540.163168   \n",
       "1994-06-22 000036  0.607649  0.633691  0.607649  0.614593   95769.944793   \n",
       "1994-06-23 000036  0.614593  0.623274  0.595496  0.597232   55272.050895   \n",
       "\n",
       "                       amount  preclose       adj  \n",
       "date       code                                    \n",
       "1994-06-17 000036  49869236.0       NaN  0.173614  \n",
       "1994-06-20 000036  29615056.0  0.680567  0.173614  \n",
       "1994-06-21 000036   7133051.5  0.612857  0.173614  \n",
       "1994-06-22 000036   5926312.0  0.605913  0.173614  \n",
       "1994-06-23 000036   3336894.0  0.614593  0.173614  "
      ]
     },
     "execution_count": 28,
     "metadata": {},
     "output_type": "execute_result"
    }
   ],
   "source": [
    "stock_df_qfq.data.head()"
   ]
  },
  {
   "cell_type": "code",
   "execution_count": 92,
   "metadata": {},
   "outputs": [],
   "source": [
    "tdx_df = stock_df_qfq.data"
   ]
  },
  {
   "cell_type": "code",
   "execution_count": 93,
   "metadata": {},
   "outputs": [
    {
     "data": {
      "text/html": [
       "<div>\n",
       "<style scoped>\n",
       "    .dataframe tbody tr th:only-of-type {\n",
       "        vertical-align: middle;\n",
       "    }\n",
       "\n",
       "    .dataframe tbody tr th {\n",
       "        vertical-align: top;\n",
       "    }\n",
       "\n",
       "    .dataframe thead th {\n",
       "        text-align: right;\n",
       "    }\n",
       "</style>\n",
       "<table border=\"1\" class=\"dataframe\">\n",
       "  <thead>\n",
       "    <tr style=\"text-align: right;\">\n",
       "      <th></th>\n",
       "      <th></th>\n",
       "      <th>open</th>\n",
       "      <th>high</th>\n",
       "      <th>low</th>\n",
       "      <th>close</th>\n",
       "      <th>volume</th>\n",
       "      <th>amount</th>\n",
       "      <th>preclose</th>\n",
       "      <th>adj</th>\n",
       "    </tr>\n",
       "    <tr>\n",
       "      <th>date</th>\n",
       "      <th>code</th>\n",
       "      <th></th>\n",
       "      <th></th>\n",
       "      <th></th>\n",
       "      <th></th>\n",
       "      <th></th>\n",
       "      <th></th>\n",
       "      <th></th>\n",
       "      <th></th>\n",
       "    </tr>\n",
       "  </thead>\n",
       "  <tbody>\n",
       "    <tr>\n",
       "      <th>2018-07-23</th>\n",
       "      <th>000922</th>\n",
       "      <td>6.72</td>\n",
       "      <td>6.85</td>\n",
       "      <td>6.71</td>\n",
       "      <td>6.83</td>\n",
       "      <td>18524.0</td>\n",
       "      <td>12604792.0</td>\n",
       "      <td>6.75</td>\n",
       "      <td>1.0</td>\n",
       "    </tr>\n",
       "    <tr>\n",
       "      <th>2018-07-24</th>\n",
       "      <th>000922</th>\n",
       "      <td>6.82</td>\n",
       "      <td>6.92</td>\n",
       "      <td>6.75</td>\n",
       "      <td>6.86</td>\n",
       "      <td>24429.0</td>\n",
       "      <td>16682045.0</td>\n",
       "      <td>6.83</td>\n",
       "      <td>1.0</td>\n",
       "    </tr>\n",
       "    <tr>\n",
       "      <th>2018-07-25</th>\n",
       "      <th>000922</th>\n",
       "      <td>6.83</td>\n",
       "      <td>6.90</td>\n",
       "      <td>6.79</td>\n",
       "      <td>6.80</td>\n",
       "      <td>22322.0</td>\n",
       "      <td>15253625.0</td>\n",
       "      <td>6.86</td>\n",
       "      <td>1.0</td>\n",
       "    </tr>\n",
       "    <tr>\n",
       "      <th>2018-07-26</th>\n",
       "      <th>000922</th>\n",
       "      <td>6.77</td>\n",
       "      <td>6.89</td>\n",
       "      <td>6.74</td>\n",
       "      <td>6.83</td>\n",
       "      <td>23357.0</td>\n",
       "      <td>15918321.0</td>\n",
       "      <td>6.80</td>\n",
       "      <td>1.0</td>\n",
       "    </tr>\n",
       "    <tr>\n",
       "      <th>2018-07-27</th>\n",
       "      <th>000922</th>\n",
       "      <td>6.84</td>\n",
       "      <td>7.08</td>\n",
       "      <td>6.82</td>\n",
       "      <td>7.03</td>\n",
       "      <td>32750.0</td>\n",
       "      <td>22702426.0</td>\n",
       "      <td>6.83</td>\n",
       "      <td>1.0</td>\n",
       "    </tr>\n",
       "  </tbody>\n",
       "</table>\n",
       "</div>"
      ],
      "text/plain": [
       "                   open  high   low  close   volume      amount  preclose  adj\n",
       "date       code                                                               \n",
       "2018-07-23 000922  6.72  6.85  6.71   6.83  18524.0  12604792.0      6.75  1.0\n",
       "2018-07-24 000922  6.82  6.92  6.75   6.86  24429.0  16682045.0      6.83  1.0\n",
       "2018-07-25 000922  6.83  6.90  6.79   6.80  22322.0  15253625.0      6.86  1.0\n",
       "2018-07-26 000922  6.77  6.89  6.74   6.83  23357.0  15918321.0      6.80  1.0\n",
       "2018-07-27 000922  6.84  7.08  6.82   7.03  32750.0  22702426.0      6.83  1.0"
      ]
     },
     "execution_count": 93,
     "metadata": {},
     "output_type": "execute_result"
    }
   ],
   "source": [
    "tdx_df.tail()"
   ]
  },
  {
   "cell_type": "code",
   "execution_count": null,
   "metadata": {},
   "outputs": [],
   "source": []
  },
  {
   "cell_type": "markdown",
   "metadata": {},
   "source": [
    "## 5.1 compare with csv from tushare"
   ]
  },
  {
   "cell_type": "code",
   "execution_count": 71,
   "metadata": {},
   "outputs": [],
   "source": [
    "ts_path = \"C:/Users/ben_msi/abu/data/download/OCHLV_20180717/\""
   ]
  },
  {
   "cell_type": "code",
   "execution_count": 86,
   "metadata": {},
   "outputs": [],
   "source": [
    "ts_stock_file = ts_path + '000922.csv'"
   ]
  },
  {
   "cell_type": "code",
   "execution_count": 87,
   "metadata": {},
   "outputs": [],
   "source": [
    "ts_df = pd.read_csv(ts_stock_file, index_col=0)"
   ]
  },
  {
   "cell_type": "code",
   "execution_count": 88,
   "metadata": {},
   "outputs": [
    {
     "data": {
      "text/html": [
       "<div>\n",
       "<style scoped>\n",
       "    .dataframe tbody tr th:only-of-type {\n",
       "        vertical-align: middle;\n",
       "    }\n",
       "\n",
       "    .dataframe tbody tr th {\n",
       "        vertical-align: top;\n",
       "    }\n",
       "\n",
       "    .dataframe thead th {\n",
       "        text-align: right;\n",
       "    }\n",
       "</style>\n",
       "<table border=\"1\" class=\"dataframe\">\n",
       "  <thead>\n",
       "    <tr style=\"text-align: right;\">\n",
       "      <th></th>\n",
       "      <th>date</th>\n",
       "      <th>open</th>\n",
       "      <th>close</th>\n",
       "      <th>high</th>\n",
       "      <th>low</th>\n",
       "      <th>volume</th>\n",
       "      <th>code</th>\n",
       "    </tr>\n",
       "  </thead>\n",
       "  <tbody>\n",
       "    <tr>\n",
       "      <th>4382</th>\n",
       "      <td>2018-07-10</td>\n",
       "      <td>6.65</td>\n",
       "      <td>6.69</td>\n",
       "      <td>6.76</td>\n",
       "      <td>6.58</td>\n",
       "      <td>46250.0</td>\n",
       "      <td>922</td>\n",
       "    </tr>\n",
       "    <tr>\n",
       "      <th>4383</th>\n",
       "      <td>2018-07-11</td>\n",
       "      <td>6.56</td>\n",
       "      <td>6.53</td>\n",
       "      <td>6.65</td>\n",
       "      <td>6.38</td>\n",
       "      <td>41571.0</td>\n",
       "      <td>922</td>\n",
       "    </tr>\n",
       "    <tr>\n",
       "      <th>4384</th>\n",
       "      <td>2018-07-12</td>\n",
       "      <td>6.51</td>\n",
       "      <td>6.81</td>\n",
       "      <td>6.84</td>\n",
       "      <td>6.49</td>\n",
       "      <td>46381.0</td>\n",
       "      <td>922</td>\n",
       "    </tr>\n",
       "    <tr>\n",
       "      <th>4385</th>\n",
       "      <td>2018-07-13</td>\n",
       "      <td>6.79</td>\n",
       "      <td>6.74</td>\n",
       "      <td>6.83</td>\n",
       "      <td>6.72</td>\n",
       "      <td>26868.0</td>\n",
       "      <td>922</td>\n",
       "    </tr>\n",
       "    <tr>\n",
       "      <th>4386</th>\n",
       "      <td>2018-07-16</td>\n",
       "      <td>6.50</td>\n",
       "      <td>6.65</td>\n",
       "      <td>6.71</td>\n",
       "      <td>6.50</td>\n",
       "      <td>30296.0</td>\n",
       "      <td>922</td>\n",
       "    </tr>\n",
       "  </tbody>\n",
       "</table>\n",
       "</div>"
      ],
      "text/plain": [
       "            date  open  close  high   low   volume  code\n",
       "4382  2018-07-10  6.65   6.69  6.76  6.58  46250.0   922\n",
       "4383  2018-07-11  6.56   6.53  6.65  6.38  41571.0   922\n",
       "4384  2018-07-12  6.51   6.81  6.84  6.49  46381.0   922\n",
       "4385  2018-07-13  6.79   6.74  6.83  6.72  26868.0   922\n",
       "4386  2018-07-16  6.50   6.65  6.71  6.50  30296.0   922"
      ]
     },
     "execution_count": 88,
     "metadata": {},
     "output_type": "execute_result"
    }
   ],
   "source": [
    "ts_df.tail()"
   ]
  },
  {
   "cell_type": "code",
   "execution_count": 94,
   "metadata": {},
   "outputs": [],
   "source": [
    "ts_close = ts_df[ts_df.date == '2018-07-10'].close.values[0]\n",
    "ts_volume = ts_df[ts_df.date == '2018-07-10'].volume.values[0]"
   ]
  },
  {
   "cell_type": "code",
   "execution_count": 76,
   "metadata": {},
   "outputs": [
    {
     "data": {
      "text/plain": [
       "True"
      ]
     },
     "execution_count": 76,
     "metadata": {},
     "output_type": "execute_result"
    }
   ],
   "source": [
    "'2018-07-10' in ts_df.date.tolist()"
   ]
  },
  {
   "cell_type": "code",
   "execution_count": null,
   "metadata": {},
   "outputs": [],
   "source": []
  },
  {
   "cell_type": "code",
   "execution_count": 52,
   "metadata": {},
   "outputs": [
    {
     "data": {
      "text/plain": [
       "179225.0"
      ]
     },
     "execution_count": 52,
     "metadata": {},
     "output_type": "execute_result"
    }
   ],
   "source": [
    "volume"
   ]
  },
  {
   "cell_type": "code",
   "execution_count": 95,
   "metadata": {},
   "outputs": [],
   "source": [
    "tdx_close = tdx_df.loc['2018-07-10'].close.values[0]\n",
    "tdx_volume = tdx_df.loc['2018-07-10'].volume.values[0]"
   ]
  },
  {
   "cell_type": "code",
   "execution_count": 96,
   "metadata": {},
   "outputs": [
    {
     "data": {
      "text/plain": [
       "True"
      ]
     },
     "execution_count": 96,
     "metadata": {},
     "output_type": "execute_result"
    }
   ],
   "source": [
    "compare_result = (abs(ts_close - tdx_close) <= 0.1) & (abs(ts_volume - tdx_volume) <= 1)\n",
    "compare_result"
   ]
  },
  {
   "cell_type": "code",
   "execution_count": null,
   "metadata": {},
   "outputs": [],
   "source": []
  },
  {
   "cell_type": "code",
   "execution_count": 57,
   "metadata": {},
   "outputs": [],
   "source": [
    "test_list = stock_list_1[400:500]"
   ]
  },
  {
   "cell_type": "code",
   "execution_count": 58,
   "metadata": {},
   "outputs": [
    {
     "data": {
      "text/plain": [
       "'002036'"
      ]
     },
     "execution_count": 58,
     "metadata": {},
     "output_type": "execute_result"
    }
   ],
   "source": [
    "test_list[-1]"
   ]
  },
  {
   "cell_type": "code",
   "execution_count": 97,
   "metadata": {},
   "outputs": [
    {
     "name": "stdout",
     "output_type": "stream",
     "text": [
      "QA Error QA_fetch_stock_day_adv parameter code=000949 , start=1990-01-01, end=2018-07-29 call QA_fetch_stock_day return None\n"
     ]
    },
    {
     "ename": "AttributeError",
     "evalue": "'NoneType' object has no attribute 'to_qfq'",
     "output_type": "error",
     "traceback": [
      "\u001b[1;31m---------------------------------------------------------------------------\u001b[0m",
      "\u001b[1;31mAttributeError\u001b[0m                            Traceback (most recent call last)",
      "\u001b[1;32m<ipython-input-97-c2acc68a0d3b>\u001b[0m in \u001b[0;36m<module>\u001b[1;34m()\u001b[0m\n\u001b[0;32m     13\u001b[0m             \u001b[0mts_close\u001b[0m \u001b[1;33m=\u001b[0m \u001b[0mts_df\u001b[0m\u001b[1;33m[\u001b[0m\u001b[0mts_df\u001b[0m\u001b[1;33m.\u001b[0m\u001b[0mdate\u001b[0m \u001b[1;33m==\u001b[0m \u001b[0mtest_date\u001b[0m\u001b[1;33m]\u001b[0m\u001b[1;33m.\u001b[0m\u001b[0mclose\u001b[0m\u001b[1;33m.\u001b[0m\u001b[0mvalues\u001b[0m\u001b[1;33m[\u001b[0m\u001b[1;36m0\u001b[0m\u001b[1;33m]\u001b[0m\u001b[1;33m\u001b[0m\u001b[0m\n\u001b[0;32m     14\u001b[0m             \u001b[0mts_volume\u001b[0m \u001b[1;33m=\u001b[0m \u001b[0mts_df\u001b[0m\u001b[1;33m[\u001b[0m\u001b[0mts_df\u001b[0m\u001b[1;33m.\u001b[0m\u001b[0mdate\u001b[0m \u001b[1;33m==\u001b[0m \u001b[0mtest_date\u001b[0m\u001b[1;33m]\u001b[0m\u001b[1;33m.\u001b[0m\u001b[0mvolume\u001b[0m\u001b[1;33m.\u001b[0m\u001b[0mvalues\u001b[0m\u001b[1;33m[\u001b[0m\u001b[1;36m0\u001b[0m\u001b[1;33m]\u001b[0m\u001b[1;33m\u001b[0m\u001b[0m\n\u001b[1;32m---> 15\u001b[1;33m             \u001b[0mtdx_df\u001b[0m \u001b[1;33m=\u001b[0m \u001b[0mQA\u001b[0m\u001b[1;33m.\u001b[0m\u001b[0mQA_fetch_stock_day_adv\u001b[0m\u001b[1;33m(\u001b[0m\u001b[0mstock\u001b[0m\u001b[1;33m)\u001b[0m\u001b[1;33m.\u001b[0m\u001b[0mto_qfq\u001b[0m\u001b[1;33m(\u001b[0m\u001b[1;33m)\u001b[0m\u001b[1;33m.\u001b[0m\u001b[0mdata\u001b[0m\u001b[1;33m\u001b[0m\u001b[0m\n\u001b[0m\u001b[0;32m     16\u001b[0m             \u001b[0mtdx_close\u001b[0m \u001b[1;33m=\u001b[0m \u001b[0mtdx_df\u001b[0m\u001b[1;33m.\u001b[0m\u001b[0mloc\u001b[0m\u001b[1;33m[\u001b[0m\u001b[0mtest_date\u001b[0m\u001b[1;33m]\u001b[0m\u001b[1;33m.\u001b[0m\u001b[0mclose\u001b[0m\u001b[1;33m.\u001b[0m\u001b[0mvalues\u001b[0m\u001b[1;33m[\u001b[0m\u001b[1;36m0\u001b[0m\u001b[1;33m]\u001b[0m\u001b[1;33m\u001b[0m\u001b[0m\n\u001b[0;32m     17\u001b[0m             \u001b[0mtdx_volume\u001b[0m \u001b[1;33m=\u001b[0m \u001b[0mtdx_df\u001b[0m\u001b[1;33m.\u001b[0m\u001b[0mloc\u001b[0m\u001b[1;33m[\u001b[0m\u001b[0mtest_date\u001b[0m\u001b[1;33m]\u001b[0m\u001b[1;33m.\u001b[0m\u001b[0mvolume\u001b[0m\u001b[1;33m.\u001b[0m\u001b[0mvalues\u001b[0m\u001b[1;33m[\u001b[0m\u001b[1;36m0\u001b[0m\u001b[1;33m]\u001b[0m\u001b[1;33m\u001b[0m\u001b[0m\n",
      "\u001b[1;31mAttributeError\u001b[0m: 'NoneType' object has no attribute 'to_qfq'"
     ]
    }
   ],
   "source": [
    "# compare\n",
    "import os.path\n",
    "\n",
    "test_date = '2018-07-10'\n",
    "result_dict = {}\n",
    "result_list = []\n",
    "i = 0\n",
    "for stock in test_list:\n",
    "    ts_stock_file = ts_path + str(stock) + '.csv'\n",
    "    if os.path.exists(ts_stock_file):\n",
    "        ts_df = pd.read_csv(ts_stock_file, index_col=0)\n",
    "        if test_date in ts_df.date.tolist():\n",
    "            ts_close = ts_df[ts_df.date == test_date].close.values[0]\n",
    "            ts_volume = ts_df[ts_df.date == test_date].volume.values[0]\n",
    "            tdx_df = QA.QA_fetch_stock_day_adv(stock).to_qfq().data\n",
    "            tdx_close = tdx_df.loc[test_date].close.values[0]\n",
    "            tdx_volume = tdx_df.loc[test_date].volume.values[0]\n",
    "            result_list.append((abs(ts_close - tdx_close) <= 0.1) & (abs(ts_volume - tdx_volume) <= 1))\n",
    "            result_dict[i] = [stock, result_list[i], (ts_close, ts_volume), (tdx_close, tdx_volume)]\n",
    "            i = i + 1\n",
    "        else:\n",
    "            print(\"test date doesn't exist for stock {}\".format(stock + '.csv'))\n",
    "    else:\n",
    "        print(\"file {} doesn't exist\".format(stock + '.csv'))"
   ]
  },
  {
   "cell_type": "code",
   "execution_count": null,
   "metadata": {},
   "outputs": [],
   "source": [
    "stock = '000922'\n",
    "ts_stock_file = ts_path + str(stock) + '.csv'\n",
    "\n",
    "ts_df = pd.read_csv(ts_stock_file, index_col=0)\n",
    "\n",
    "ts_close = ts_df[ts_df.date == test_date].close.values[0]\n",
    "ts_volume = ts_df[ts_df.date == test_date].volume.values[0]\n",
    "tdx_df = QA.QA_fetch_stock_day_adv(stock_id).to_qfq().data\n",
    "tdx_close = tdx_df.loc[test_date].close.values[0]\n",
    "tdx_volume = tdx_df.loc[test_date].volume.values[0]\n",
    "result_list.append((abs(ts_close - tdx_close) <= 0.1) & (abs(ts_volume - tdx_volume) <= 1))"
   ]
  },
  {
   "cell_type": "code",
   "execution_count": 98,
   "metadata": {},
   "outputs": [
    {
     "data": {
      "text/plain": [
       "False"
      ]
     },
     "execution_count": 98,
     "metadata": {},
     "output_type": "execute_result"
    }
   ],
   "source": [
    "all(result_list)"
   ]
  },
  {
   "cell_type": "code",
   "execution_count": 80,
   "metadata": {},
   "outputs": [],
   "source": [
    "import numpy as np"
   ]
  },
  {
   "cell_type": "code",
   "execution_count": 81,
   "metadata": {},
   "outputs": [
    {
     "data": {
      "text/plain": [
       "(array([], dtype=int64),)"
      ]
     },
     "execution_count": 81,
     "metadata": {},
     "output_type": "execute_result"
    }
   ],
   "source": [
    "np.where(result_list)"
   ]
  },
  {
   "cell_type": "code",
   "execution_count": 99,
   "metadata": {},
   "outputs": [
    {
     "data": {
      "text/plain": [
       "[0, 11]"
      ]
     },
     "execution_count": 99,
     "metadata": {},
     "output_type": "execute_result"
    }
   ],
   "source": [
    "[i for i,v in enumerate(result_list) if v == False]"
   ]
  },
  {
   "cell_type": "code",
   "execution_count": 84,
   "metadata": {},
   "outputs": [
    {
     "data": {
      "text/plain": [
       "[False, False, False, False, False, False, False, False, False, False]"
      ]
     },
     "execution_count": 84,
     "metadata": {},
     "output_type": "execute_result"
    }
   ],
   "source": [
    "result_list[:10]"
   ]
  },
  {
   "cell_type": "code",
   "execution_count": 102,
   "metadata": {},
   "outputs": [
    {
     "data": {
      "text/plain": [
       "['000921',\n",
       " False,\n",
       " (9.232999999999999, 48317.0),\n",
       " (9.232605032316469, 50658.35247613224)]"
      ]
     },
     "execution_count": 102,
     "metadata": {},
     "output_type": "execute_result"
    }
   ],
   "source": [
    "result_dict[0]"
   ]
  },
  {
   "cell_type": "code",
   "execution_count": 103,
   "metadata": {},
   "outputs": [],
   "source": [
    "import tushare as ts"
   ]
  },
  {
   "cell_type": "code",
   "execution_count": 104,
   "metadata": {},
   "outputs": [
    {
     "data": {
      "text/html": [
       "<div>\n",
       "<style scoped>\n",
       "    .dataframe tbody tr th:only-of-type {\n",
       "        vertical-align: middle;\n",
       "    }\n",
       "\n",
       "    .dataframe tbody tr th {\n",
       "        vertical-align: top;\n",
       "    }\n",
       "\n",
       "    .dataframe thead th {\n",
       "        text-align: right;\n",
       "    }\n",
       "</style>\n",
       "<table border=\"1\" class=\"dataframe\">\n",
       "  <thead>\n",
       "    <tr style=\"text-align: right;\">\n",
       "      <th></th>\n",
       "      <th>date</th>\n",
       "      <th>open</th>\n",
       "      <th>close</th>\n",
       "      <th>high</th>\n",
       "      <th>low</th>\n",
       "      <th>volume</th>\n",
       "      <th>code</th>\n",
       "    </tr>\n",
       "  </thead>\n",
       "  <tbody>\n",
       "    <tr>\n",
       "      <th>4202</th>\n",
       "      <td>2018-07-23</td>\n",
       "      <td>8.90</td>\n",
       "      <td>9.01</td>\n",
       "      <td>9.03</td>\n",
       "      <td>8.83</td>\n",
       "      <td>47176.0</td>\n",
       "      <td>000921</td>\n",
       "    </tr>\n",
       "    <tr>\n",
       "      <th>4203</th>\n",
       "      <td>2018-07-24</td>\n",
       "      <td>9.02</td>\n",
       "      <td>9.32</td>\n",
       "      <td>9.33</td>\n",
       "      <td>9.02</td>\n",
       "      <td>100965.0</td>\n",
       "      <td>000921</td>\n",
       "    </tr>\n",
       "    <tr>\n",
       "      <th>4204</th>\n",
       "      <td>2018-07-25</td>\n",
       "      <td>9.31</td>\n",
       "      <td>9.29</td>\n",
       "      <td>9.36</td>\n",
       "      <td>9.18</td>\n",
       "      <td>64053.0</td>\n",
       "      <td>000921</td>\n",
       "    </tr>\n",
       "    <tr>\n",
       "      <th>4205</th>\n",
       "      <td>2018-07-26</td>\n",
       "      <td>9.27</td>\n",
       "      <td>9.22</td>\n",
       "      <td>9.34</td>\n",
       "      <td>9.20</td>\n",
       "      <td>42747.0</td>\n",
       "      <td>000921</td>\n",
       "    </tr>\n",
       "    <tr>\n",
       "      <th>4206</th>\n",
       "      <td>2018-07-27</td>\n",
       "      <td>9.22</td>\n",
       "      <td>9.05</td>\n",
       "      <td>9.24</td>\n",
       "      <td>8.96</td>\n",
       "      <td>53760.0</td>\n",
       "      <td>000921</td>\n",
       "    </tr>\n",
       "  </tbody>\n",
       "</table>\n",
       "</div>"
      ],
      "text/plain": [
       "            date  open  close  high   low    volume    code\n",
       "4202  2018-07-23  8.90   9.01  9.03  8.83   47176.0  000921\n",
       "4203  2018-07-24  9.02   9.32  9.33  9.02  100965.0  000921\n",
       "4204  2018-07-25  9.31   9.29  9.36  9.18   64053.0  000921\n",
       "4205  2018-07-26  9.27   9.22  9.34  9.20   42747.0  000921\n",
       "4206  2018-07-27  9.22   9.05  9.24  8.96   53760.0  000921"
      ]
     },
     "execution_count": 104,
     "metadata": {},
     "output_type": "execute_result"
    }
   ],
   "source": [
    "stock_000921 = ts.get_k_data('000921',ktype='D',autype='qfq',start='1997-01-01')\n",
    "stock_000921.tail()"
   ]
  },
  {
   "cell_type": "markdown",
   "metadata": {},
   "source": [
    "## 5.2 export ts stock to csv"
   ]
  },
  {
   "cell_type": "code",
   "execution_count": 105,
   "metadata": {},
   "outputs": [
    {
     "name": "stderr",
     "output_type": "stream",
     "text": [
      "QUANTAXIS>> Welcome to QUANTAXIS, the Version is 1.0.69.dev3\n",
      "QUANTAXIS>>  \n",
      " ```````````````````````````````````````````````````````````````````````````````````````````````````````````````````````` \n",
      "  ``########`````##````````##``````````##`````````####````````##```##########````````#``````##``````###```##`````######`` \n",
      "  `##``````## ```##````````##`````````####````````##`##```````##```````##```````````###``````##````##`````##```##`````##` \n",
      "  ##````````##```##````````##````````##`##````````##``##``````##```````##``````````####```````#```##``````##```##``````## \n",
      "  ##````````##```##````````##```````##```##```````##```##`````##```````##`````````##`##```````##`##```````##````##``````` \n",
      "  ##````````##```##````````##``````##`````##``````##````##````##```````##````````##``###```````###````````##`````##`````` \n",
      "  ##````````##```##````````##``````##``````##`````##`````##```##```````##```````##````##```````###````````##``````###```` \n",
      "  ##````````##```##````````##`````##````````##````##``````##``##```````##``````##``````##`````##`##```````##````````##``` \n",
      "  ##````````##```##````````##````#############````##```````##`##```````##`````###########`````##``##``````##`````````##`` \n",
      "  ###```````##```##````````##```##```````````##```##```````##`##```````##````##`````````##```##```##``````##```##`````##` \n",
      "  `##``````###````##``````###``##`````````````##``##````````####```````##```##``````````##``###````##`````##````##`````## \n",
      "  ``#########``````########```##``````````````###`##``````````##```````##``##````````````##`##``````##````##`````###``### \n",
      "  ````````#####`````````````````````````````````````````````````````````````````````````````````````````````````````##``  \n",
      "  ``````````````````````````````````````````````````````````````````````````````````````````````````````````````````````` \n",
      "  ``````````````````````````Copyright``yutiansut``2018``````QUANTITATIVE FINANCIAL FRAMEWORK````````````````````````````` \n",
      "  ``````````````````````````````````````````````````````````````````````````````````````````````````````````````````````` \n",
      " ```````````````````````````````````````````````````````````````````````````````````````````````````````````````````````` \n",
      " ```````````````````````````````````````````````````````````````````````````````````````````````````````````````````````` \n",
      " \n"
     ]
    }
   ],
   "source": [
    "tdx_ts_path = \"C:/Users/ben_msi/abu/data/download/tdx/stock_day_20180727/\""
   ]
  },
  {
   "cell_type": "code",
   "execution_count": 127,
   "metadata": {},
   "outputs": [
    {
     "data": {
      "text/html": [
       "<div>\n",
       "<style scoped>\n",
       "    .dataframe tbody tr th:only-of-type {\n",
       "        vertical-align: middle;\n",
       "    }\n",
       "\n",
       "    .dataframe tbody tr th {\n",
       "        vertical-align: top;\n",
       "    }\n",
       "\n",
       "    .dataframe thead th {\n",
       "        text-align: right;\n",
       "    }\n",
       "</style>\n",
       "<table border=\"1\" class=\"dataframe\">\n",
       "  <thead>\n",
       "    <tr style=\"text-align: right;\">\n",
       "      <th></th>\n",
       "      <th>code</th>\n",
       "      <th>open</th>\n",
       "      <th>high</th>\n",
       "      <th>low</th>\n",
       "      <th>close</th>\n",
       "      <th>volume</th>\n",
       "      <th>date</th>\n",
       "    </tr>\n",
       "    <tr>\n",
       "      <th>date</th>\n",
       "      <th></th>\n",
       "      <th></th>\n",
       "      <th></th>\n",
       "      <th></th>\n",
       "      <th></th>\n",
       "      <th></th>\n",
       "      <th></th>\n",
       "    </tr>\n",
       "  </thead>\n",
       "  <tbody>\n",
       "    <tr>\n",
       "      <th>2018-07-23</th>\n",
       "      <td>002358</td>\n",
       "      <td>14.20</td>\n",
       "      <td>14.28</td>\n",
       "      <td>14.10</td>\n",
       "      <td>14.28</td>\n",
       "      <td>36100.0</td>\n",
       "      <td>2018-07-23</td>\n",
       "    </tr>\n",
       "    <tr>\n",
       "      <th>2018-07-24</th>\n",
       "      <td>002358</td>\n",
       "      <td>14.18</td>\n",
       "      <td>14.56</td>\n",
       "      <td>14.18</td>\n",
       "      <td>14.41</td>\n",
       "      <td>42135.0</td>\n",
       "      <td>2018-07-24</td>\n",
       "    </tr>\n",
       "    <tr>\n",
       "      <th>2018-07-25</th>\n",
       "      <td>002358</td>\n",
       "      <td>14.40</td>\n",
       "      <td>15.00</td>\n",
       "      <td>14.29</td>\n",
       "      <td>14.36</td>\n",
       "      <td>56659.0</td>\n",
       "      <td>2018-07-25</td>\n",
       "    </tr>\n",
       "    <tr>\n",
       "      <th>2018-07-26</th>\n",
       "      <td>002358</td>\n",
       "      <td>14.30</td>\n",
       "      <td>14.50</td>\n",
       "      <td>14.24</td>\n",
       "      <td>14.30</td>\n",
       "      <td>34315.0</td>\n",
       "      <td>2018-07-26</td>\n",
       "    </tr>\n",
       "    <tr>\n",
       "      <th>2018-07-27</th>\n",
       "      <td>002358</td>\n",
       "      <td>14.30</td>\n",
       "      <td>14.36</td>\n",
       "      <td>14.18</td>\n",
       "      <td>14.29</td>\n",
       "      <td>19229.0</td>\n",
       "      <td>2018-07-27</td>\n",
       "    </tr>\n",
       "  </tbody>\n",
       "</table>\n",
       "</div>"
      ],
      "text/plain": [
       "              code   open   high    low  close   volume       date\n",
       "date                                                              \n",
       "2018-07-23  002358  14.20  14.28  14.10  14.28  36100.0 2018-07-23\n",
       "2018-07-24  002358  14.18  14.56  14.18  14.41  42135.0 2018-07-24\n",
       "2018-07-25  002358  14.40  15.00  14.29  14.36  56659.0 2018-07-25\n",
       "2018-07-26  002358  14.30  14.50  14.24  14.30  34315.0 2018-07-26\n",
       "2018-07-27  002358  14.30  14.36  14.18  14.29  19229.0 2018-07-27"
      ]
     },
     "execution_count": 127,
     "metadata": {},
     "output_type": "execute_result"
    }
   ],
   "source": [
    "stock_id = '002358'\n",
    "df_002098 = QA_fetch_stock_day_ts_adv(stock_id)\n",
    "df_002098.tail()"
   ]
  },
  {
   "cell_type": "code",
   "execution_count": 126,
   "metadata": {},
   "outputs": [
    {
     "data": {
      "text/plain": [
       "pandas._libs.tslibs.timestamps.Timestamp"
      ]
     },
     "execution_count": 126,
     "metadata": {},
     "output_type": "execute_result"
    }
   ],
   "source": [
    "type(df_002098.date[0])"
   ]
  },
  {
   "cell_type": "code",
   "execution_count": null,
   "metadata": {},
   "outputs": [],
   "source": []
  }
 ],
 "metadata": {
  "kernelspec": {
   "display_name": "Python 3",
   "language": "python",
   "name": "python3"
  },
  "language_info": {
   "codemirror_mode": {
    "name": "ipython",
    "version": 3
   },
   "file_extension": ".py",
   "mimetype": "text/x-python",
   "name": "python",
   "nbconvert_exporter": "python",
   "pygments_lexer": "ipython3",
   "version": "3.5.4"
  }
 },
 "nbformat": 4,
 "nbformat_minor": 2
}
