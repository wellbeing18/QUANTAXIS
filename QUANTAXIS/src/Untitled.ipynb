{
 "cells": [
  {
   "cell_type": "code",
   "execution_count": 11,
   "metadata": {
    "collapsed": true
   },
   "outputs": [],
   "source": [
    "from pymongo import MongoClient\n",
    "import urllib.request as urllib2\n",
    "import requests\n",
    "from bs4 import BeautifulSoup\n",
    "import time\n",
    "import random\n",
    "import chardet\n",
    "import pandas as pd\n",
    "import tushare as ts\n",
    "import re\n",
    "import json\n",
    "from selenium import webdriver\n",
    "import numpy as np\n",
    "\n",
    "import pprint\n"
   ]
  },
  {
   "cell_type": "code",
   "execution_count": 2,
   "metadata": {},
   "outputs": [
    {
     "data": {
      "text/plain": [
       "code\n",
       "000416     民生控股\n",
       "600462     九有股份\n",
       "002570      贝因美\n",
       "002264    新 华 都\n",
       "600113     浙江东日\n",
       "Name: name, dtype: object"
      ]
     },
     "execution_count": 2,
     "metadata": {},
     "output_type": "execute_result"
    }
   ],
   "source": [
    "data = ts.get_stock_basics()\n",
    "stock_list = data[data['timeToMarket'] != 0]['name']\n",
    "stock_list.head()"
   ]
  },
  {
   "cell_type": "code",
   "execution_count": 3,
   "metadata": {},
   "outputs": [
    {
     "data": {
      "text/plain": [
       "'000416'"
      ]
     },
     "execution_count": 3,
     "metadata": {},
     "output_type": "execute_result"
    }
   ],
   "source": [
    "stock_list.index[0]"
   ]
  },
  {
   "cell_type": "code",
   "execution_count": 4,
   "metadata": {},
   "outputs": [
    {
     "data": {
      "text/plain": [
       "'民生控股'"
      ]
     },
     "execution_count": 4,
     "metadata": {},
     "output_type": "execute_result"
    }
   ],
   "source": [
    "stock_list[0]"
   ]
  },
  {
   "cell_type": "code",
   "execution_count": 5,
   "metadata": {},
   "outputs": [
    {
     "data": {
      "text/plain": [
       "'2018-03-19'"
      ]
     },
     "execution_count": 5,
     "metadata": {},
     "output_type": "execute_result"
    }
   ],
   "source": [
    "import datetime\n",
    "today_date = datetime.datetime.today().strftime('%Y-%m-%d')\n",
    "today_date"
   ]
  },
  {
   "cell_type": "code",
   "execution_count": 6,
   "metadata": {},
   "outputs": [
    {
     "data": {
      "text/plain": [
       "3499"
      ]
     },
     "execution_count": 6,
     "metadata": {},
     "output_type": "execute_result"
    }
   ],
   "source": [
    "len(stock_list)"
   ]
  },
  {
   "cell_type": "code",
   "execution_count": 7,
   "metadata": {
    "collapsed": true
   },
   "outputs": [],
   "source": [
    "ip = '127.0.0.1'\n",
    "port = 27017\n",
    "\n",
    "client = MongoClient(ip, port)\n",
    "db = client.quantaxis\n",
    "coll = db.fin_data\n"
   ]
  },
  {
   "cell_type": "code",
   "execution_count": 27,
   "metadata": {
    "collapsed": true
   },
   "outputs": [],
   "source": [
    "stock_id = '300100'#'300624' # '300571'"
   ]
  },
  {
   "cell_type": "code",
   "execution_count": 29,
   "metadata": {},
   "outputs": [
    {
     "data": {
      "text/plain": [
       "1"
      ]
     },
     "execution_count": 29,
     "metadata": {},
     "output_type": "execute_result"
    }
   ],
   "source": [
    "num = coll.find({'code': stock_id}).count()\n",
    "num"
   ]
  },
  {
   "cell_type": "code",
   "execution_count": 26,
   "metadata": {},
   "outputs": [
    {
     "data": {
      "text/plain": [
       "0"
      ]
     },
     "execution_count": 26,
     "metadata": {},
     "output_type": "execute_result"
    }
   ],
   "source": []
  },
  {
   "cell_type": "code",
   "execution_count": null,
   "metadata": {
    "collapsed": true
   },
   "outputs": [],
   "source": []
  },
  {
   "cell_type": "code",
   "execution_count": 24,
   "metadata": {},
   "outputs": [
    {
     "data": {
      "text/plain": [
       "<pymongo.cursor.Cursor at 0x288bd2a2048>"
      ]
     },
     "execution_count": 24,
     "metadata": {},
     "output_type": "execute_result"
    }
   ],
   "source": []
  },
  {
   "cell_type": "code",
   "execution_count": 2,
   "metadata": {},
   "outputs": [
    {
     "name": "stderr",
     "output_type": "stream",
     "text": [
      "C:\\Users\\ben_msi\\Anaconda2\\envs\\python3\\lib\\site-packages\\selenium\\webdriver\\phantomjs\\webdriver.py:49: UserWarning: Selenium support for PhantomJS has been deprecated, please use headless versions of Chrome or Firefox instead\n",
      "  warnings.warn('Selenium support for PhantomJS has been deprecated, please use headless '\n"
     ]
    }
   ],
   "source": [
    "\n",
    "\n",
    "ip = '127.0.0.1'\n",
    "port = 27017\n",
    "\n",
    "#client = MongoClient(ip, port)\n",
    "#db = client.quantaxis\n",
    "#coll = db.fin_data\n",
    "\n",
    "# scrape financial data\n",
    "\n",
    "# get stock list\n",
    "#data = ts.get_stock_basics()\n",
    "#stock_list = data[data['timeToMarket'] != 0]['name']\n",
    "\n",
    "stock_id = '300571'\n",
    "stock_name = ''\n",
    "\n",
    "url = url_template.format(stock_id)\n",
    "\n",
    "try:\n",
    "    # compose request\n",
    "    # when javascript rendered page, cannot use urllib\n",
    "    # use selenium\n",
    "    #driver = webdriver.Chrome()\n",
    "    driver = webdriver.PhantomJS()\n",
    "    start_time = time.time()\n",
    "    driver.get(url)\n",
    "    print('fetch page for stock {} by time: {}'.format(stock_id, time.time() - start_time))\n",
    "    #time.sleep(2)\n",
    "    html_source = driver.page_source\n",
    "    soup = BeautifulSoup(html_source, \"lxml\")\n",
    "\n",
    "    '''\n",
    "    with open('html.txt', 'w', encoding='utf-8') as f:\n",
    "        print(soup.prettify(), file=f)\n",
    "    '''\n",
    "\n",
    "    data_tbody = soup.find(\"div\", class_=\"data_tbody\")\n",
    "    top_thead = data_tbody.find('table', class_='top_thead')\n",
    "    tbody = data_tbody.find('table', class_='tbody')\n",
    "\n",
    "    # process top head to get finance date first\n",
    "    items = top_thead.findAll('div', class_='td_w')\n",
    "    dates = []\n",
    "    for item in items:\n",
    "        dates.append(item.text.strip())\n",
    "\n",
    "    # process table body\n",
    "    rows = tbody.findAll('tr')\n",
    "    finance_tbl = []\n",
    "    assert(len(rows) == 17)\n",
    "    for i, row in enumerate(rows):\n",
    "        if i == 0:\n",
    "            items = row.findAll('div', class_='td_w')\n",
    "        else:\n",
    "            items = row.findAll('td')\n",
    "        row_list = [None if item.text.strip() == \"--\" else item.text.strip() for item in items ]\n",
    "        finance_tbl.append(row_list)\n",
    "\n",
    "    # total # 17\n",
    "\n",
    "    data_tbl = [dates] + finance_tbl\n",
    "    data_tbl_stack = np.column_stack(data_tbl)\n",
    "\n",
    "    df = pd.DataFrame(data_tbl_stack, columns=column).set_index('date', drop=False)\n",
    "    #df['date'] = pd.to_datetime(df['date'])\n",
    "    #df.set_index('date', inplace=True)\n",
    "\n",
    "    if 'date' in df.columns:\n",
    "        df.date = df.date.apply(str)\n",
    "\n",
    "    doc_dic ={\n",
    "        'code' : stock_id,\n",
    "        'name': stock_name,\n",
    "        'last_release_date' : df.ix[0, 'date'],\n",
    "        'last_update_date': datetime.datetime.today().strftime('%Y-%m-%d'),\n",
    "        'fin_data' : json.loads(df.to_json(orient='records')) # turns df into json, then into dictionary\n",
    "    }\n",
    "\n",
    "    coll.insert(doc_dic)\n",
    "except Exception as e:\n",
    "    print('some error occurs when processing stock {} : {} '.format(stock_id, str(e)))\n",
    "    error_list.append(stock_id)\n",
    "    continue\n",
    "\n",
    "finished_list.append(stock_id)\n",
    "\n"
   ]
  },
  {
   "cell_type": "code",
   "execution_count": 3,
   "metadata": {
    "collapsed": true
   },
   "outputs": [],
   "source": [
    "column = ['date'] + column_list\n",
    "data_tbl = [dates] + finance_tbl\n",
    "data_tbl_stack = np.column_stack(data_tbl)\n",
    "\n"
   ]
  },
  {
   "cell_type": "code",
   "execution_count": 6,
   "metadata": {
    "collapsed": true
   },
   "outputs": [],
   "source": [
    "#df = pd.DataFrame(data_tbl_stack, columns=column)\n",
    "#df['date'] = pd.to_datetime(df['date'])\n",
    "#df.set_index('date', inplace=True)\n",
    "df = pd.DataFrame(data_tbl_stack, columns=column).set_index('date', drop=False)"
   ]
  },
  {
   "cell_type": "code",
   "execution_count": 8,
   "metadata": {},
   "outputs": [
    {
     "data": {
      "text/html": [
       "<div>\n",
       "<style scoped>\n",
       "    .dataframe tbody tr th:only-of-type {\n",
       "        vertical-align: middle;\n",
       "    }\n",
       "\n",
       "    .dataframe tbody tr th {\n",
       "        vertical-align: top;\n",
       "    }\n",
       "\n",
       "    .dataframe thead th {\n",
       "        text-align: right;\n",
       "    }\n",
       "</style>\n",
       "<table border=\"1\" class=\"dataframe\">\n",
       "  <thead>\n",
       "    <tr style=\"text-align: right;\">\n",
       "      <th></th>\n",
       "      <th>date</th>\n",
       "      <th>jbmgsy</th>\n",
       "      <th>jlr</th>\n",
       "      <th>jlrtbzzl</th>\n",
       "      <th>kfjlr</th>\n",
       "      <th>kfjlrtbzzl</th>\n",
       "      <th>yyzsr</th>\n",
       "      <th>yyzsrtbzzl</th>\n",
       "      <th>mgjzc</th>\n",
       "      <th>jzcsrl</th>\n",
       "      <th>jzcsyl-tb</th>\n",
       "      <th>zcfzbl</th>\n",
       "      <th>mgzbgjj</th>\n",
       "      <th>mgwfplr</th>\n",
       "      <th>mgjyxjl</th>\n",
       "      <th>xsmll</th>\n",
       "      <th>chzzl</th>\n",
       "      <th>xsjll</th>\n",
       "    </tr>\n",
       "    <tr>\n",
       "      <th>date</th>\n",
       "      <th></th>\n",
       "      <th></th>\n",
       "      <th></th>\n",
       "      <th></th>\n",
       "      <th></th>\n",
       "      <th></th>\n",
       "      <th></th>\n",
       "      <th></th>\n",
       "      <th></th>\n",
       "      <th></th>\n",
       "      <th></th>\n",
       "      <th></th>\n",
       "      <th></th>\n",
       "      <th></th>\n",
       "      <th></th>\n",
       "      <th></th>\n",
       "      <th></th>\n",
       "      <th></th>\n",
       "    </tr>\n",
       "  </thead>\n",
       "  <tbody>\n",
       "    <tr>\n",
       "      <th>2017-12-31</th>\n",
       "      <td>2017-12-31</td>\n",
       "      <td>3.91</td>\n",
       "      <td>4.49亿</td>\n",
       "      <td>575.04%</td>\n",
       "      <td>4.49亿</td>\n",
       "      <td>591.35%</td>\n",
       "      <td>14.65亿</td>\n",
       "      <td>97.16%</td>\n",
       "      <td>9.28</td>\n",
       "      <td>52.67%</td>\n",
       "      <td>40.35%</td>\n",
       "      <td>48.76%</td>\n",
       "      <td>3.61</td>\n",
       "      <td>4.68</td>\n",
       "      <td>-0.78</td>\n",
       "      <td>48.90%</td>\n",
       "      <td>1.27</td>\n",
       "      <td>30.68%</td>\n",
       "    </tr>\n",
       "    <tr>\n",
       "      <th>2017-09-30</th>\n",
       "      <td>2017-09-30</td>\n",
       "      <td>2.83</td>\n",
       "      <td>3.12亿</td>\n",
       "      <td>694.66%</td>\n",
       "      <td>3.10亿</td>\n",
       "      <td>None</td>\n",
       "      <td>9.53亿</td>\n",
       "      <td>68.71%</td>\n",
       "      <td>8.26</td>\n",
       "      <td>41.66%</td>\n",
       "      <td>31.44%</td>\n",
       "      <td>38.26%</td>\n",
       "      <td>3.61</td>\n",
       "      <td>3.65</td>\n",
       "      <td>-1.05</td>\n",
       "      <td>50.67%</td>\n",
       "      <td>0.97</td>\n",
       "      <td>32.71%</td>\n",
       "    </tr>\n",
       "    <tr>\n",
       "      <th>2017-06-30</th>\n",
       "      <td>2017-06-30</td>\n",
       "      <td>1.29</td>\n",
       "      <td>1.36亿</td>\n",
       "      <td>660.81%</td>\n",
       "      <td>1.36亿</td>\n",
       "      <td>682.08%</td>\n",
       "      <td>4.94亿</td>\n",
       "      <td>28.53%</td>\n",
       "      <td>6.90</td>\n",
       "      <td>22.44%</td>\n",
       "      <td>16.42%</td>\n",
       "      <td>36.74%</td>\n",
       "      <td>3.61</td>\n",
       "      <td>2.18</td>\n",
       "      <td>-0.89</td>\n",
       "      <td>45.77%</td>\n",
       "      <td>0.67</td>\n",
       "      <td>27.54%</td>\n",
       "    </tr>\n",
       "    <tr>\n",
       "      <th>2017-03-31</th>\n",
       "      <td>2017-03-31</td>\n",
       "      <td>0.55</td>\n",
       "      <td>4972.22万</td>\n",
       "      <td>961.42%</td>\n",
       "      <td>4964.78万</td>\n",
       "      <td>977.51%</td>\n",
       "      <td>2.31亿</td>\n",
       "      <td>119.25%</td>\n",
       "      <td>6.25</td>\n",
       "      <td>12.47%</td>\n",
       "      <td>6.63%</td>\n",
       "      <td>37.28%</td>\n",
       "      <td>3.61</td>\n",
       "      <td>1.46</td>\n",
       "      <td>-0.08</td>\n",
       "      <td>38.73%</td>\n",
       "      <td>0.49</td>\n",
       "      <td>21.49%</td>\n",
       "    </tr>\n",
       "    <tr>\n",
       "      <th>2016-12-31</th>\n",
       "      <td>2016-12-31</td>\n",
       "      <td>0.74</td>\n",
       "      <td>6657.50万</td>\n",
       "      <td>134.50%</td>\n",
       "      <td>6498.80万</td>\n",
       "      <td>157.66%</td>\n",
       "      <td>7.43亿</td>\n",
       "      <td>-20.24%</td>\n",
       "      <td>4.15</td>\n",
       "      <td>20.75%</td>\n",
       "      <td>17.81%</td>\n",
       "      <td>53.49%</td>\n",
       "      <td>1.49</td>\n",
       "      <td>1.40</td>\n",
       "      <td>1.65</td>\n",
       "      <td>23.20%</td>\n",
       "      <td>2.00</td>\n",
       "      <td>8.96%</td>\n",
       "    </tr>\n",
       "    <tr>\n",
       "      <th>2016-09-30</th>\n",
       "      <td>2016-09-30</td>\n",
       "      <td>0.44</td>\n",
       "      <td>3923.54万</td>\n",
       "      <td>None</td>\n",
       "      <td>None</td>\n",
       "      <td>None</td>\n",
       "      <td>5.65亿</td>\n",
       "      <td>None</td>\n",
       "      <td>None</td>\n",
       "      <td>None</td>\n",
       "      <td>None</td>\n",
       "      <td>None</td>\n",
       "      <td>None</td>\n",
       "      <td>None</td>\n",
       "      <td>0.64</td>\n",
       "      <td>20.36%</td>\n",
       "      <td>None</td>\n",
       "      <td>6.95%</td>\n",
       "    </tr>\n",
       "    <tr>\n",
       "      <th>2016-06-30</th>\n",
       "      <td>2016-06-30</td>\n",
       "      <td>0.20</td>\n",
       "      <td>1786.84万</td>\n",
       "      <td>None</td>\n",
       "      <td>1739.14万</td>\n",
       "      <td>None</td>\n",
       "      <td>3.84亿</td>\n",
       "      <td>None</td>\n",
       "      <td>3.46</td>\n",
       "      <td>6.03%</td>\n",
       "      <td>5.74%</td>\n",
       "      <td>60.51%</td>\n",
       "      <td>1.49</td>\n",
       "      <td>0.87</td>\n",
       "      <td>0.32</td>\n",
       "      <td>17.52%</td>\n",
       "      <td>1.19</td>\n",
       "      <td>4.65%</td>\n",
       "    </tr>\n",
       "    <tr>\n",
       "      <th>2016-03-31</th>\n",
       "      <td>2016-03-31</td>\n",
       "      <td>0.05</td>\n",
       "      <td>468.45万</td>\n",
       "      <td>None</td>\n",
       "      <td>460.77万</td>\n",
       "      <td>None</td>\n",
       "      <td>1.06亿</td>\n",
       "      <td>None</td>\n",
       "      <td>None</td>\n",
       "      <td>1.62%</td>\n",
       "      <td>None</td>\n",
       "      <td>None</td>\n",
       "      <td>None</td>\n",
       "      <td>None</td>\n",
       "      <td>None</td>\n",
       "      <td>22.15%</td>\n",
       "      <td>None</td>\n",
       "      <td>4.44%</td>\n",
       "    </tr>\n",
       "    <tr>\n",
       "      <th>2015-12-31</th>\n",
       "      <td>2015-12-31</td>\n",
       "      <td>0.32</td>\n",
       "      <td>2838.99万</td>\n",
       "      <td>-5.91%</td>\n",
       "      <td>2522.26万</td>\n",
       "      <td>-6.34%</td>\n",
       "      <td>9.32亿</td>\n",
       "      <td>21.86%</td>\n",
       "      <td>3.20</td>\n",
       "      <td>10.90%</td>\n",
       "      <td>9.87%</td>\n",
       "      <td>63.70%</td>\n",
       "      <td>1.49</td>\n",
       "      <td>0.67</td>\n",
       "      <td>1.03</td>\n",
       "      <td>15.52%</td>\n",
       "      <td>2.68</td>\n",
       "      <td>3.05%</td>\n",
       "    </tr>\n",
       "    <tr>\n",
       "      <th>2014-12-31</th>\n",
       "      <td>2014-12-31</td>\n",
       "      <td>0.34</td>\n",
       "      <td>3017.19万</td>\n",
       "      <td>93.14%</td>\n",
       "      <td>2693.00万</td>\n",
       "      <td>122.13%</td>\n",
       "      <td>7.65亿</td>\n",
       "      <td>33.40%</td>\n",
       "      <td>2.73</td>\n",
       "      <td>13.01%</td>\n",
       "      <td>12.26%</td>\n",
       "      <td>67.85%</td>\n",
       "      <td>1.49</td>\n",
       "      <td>0.36</td>\n",
       "      <td>0.67</td>\n",
       "      <td>17.24%</td>\n",
       "      <td>2.69</td>\n",
       "      <td>3.95%</td>\n",
       "    </tr>\n",
       "    <tr>\n",
       "      <th>2013-12-31</th>\n",
       "      <td>2013-12-31</td>\n",
       "      <td>0.17</td>\n",
       "      <td>1562.20万</td>\n",
       "      <td>56.79%</td>\n",
       "      <td>1212.37万</td>\n",
       "      <td>26.56%</td>\n",
       "      <td>5.73亿</td>\n",
       "      <td>17.45%</td>\n",
       "      <td>2.41</td>\n",
       "      <td>7.33%</td>\n",
       "      <td>7.20%</td>\n",
       "      <td>64.51%</td>\n",
       "      <td>None</td>\n",
       "      <td>None</td>\n",
       "      <td>0.41</td>\n",
       "      <td>18.25%</td>\n",
       "      <td>2.49</td>\n",
       "      <td>2.73%</td>\n",
       "    </tr>\n",
       "    <tr>\n",
       "      <th>2012-12-31</th>\n",
       "      <td>2012-12-31</td>\n",
       "      <td>0.11</td>\n",
       "      <td>996.38万</td>\n",
       "      <td>None</td>\n",
       "      <td>957.94万</td>\n",
       "      <td>None</td>\n",
       "      <td>4.88亿</td>\n",
       "      <td>None</td>\n",
       "      <td>2.28</td>\n",
       "      <td>5.01%</td>\n",
       "      <td>4.85%</td>\n",
       "      <td>74.54%</td>\n",
       "      <td>None</td>\n",
       "      <td>None</td>\n",
       "      <td>0.07</td>\n",
       "      <td>17.56%</td>\n",
       "      <td>2.11</td>\n",
       "      <td>2.03%</td>\n",
       "    </tr>\n",
       "  </tbody>\n",
       "</table>\n",
       "</div>"
      ],
      "text/plain": [
       "                  date jbmgsy       jlr jlrtbzzl     kfjlr kfjlrtbzzl   yyzsr  \\\n",
       "date                                                                            \n",
       "2017-12-31  2017-12-31   3.91     4.49亿  575.04%     4.49亿    591.35%  14.65亿   \n",
       "2017-09-30  2017-09-30   2.83     3.12亿  694.66%     3.10亿       None   9.53亿   \n",
       "2017-06-30  2017-06-30   1.29     1.36亿  660.81%     1.36亿    682.08%   4.94亿   \n",
       "2017-03-31  2017-03-31   0.55  4972.22万  961.42%  4964.78万    977.51%   2.31亿   \n",
       "2016-12-31  2016-12-31   0.74  6657.50万  134.50%  6498.80万    157.66%   7.43亿   \n",
       "2016-09-30  2016-09-30   0.44  3923.54万     None      None       None   5.65亿   \n",
       "2016-06-30  2016-06-30   0.20  1786.84万     None  1739.14万       None   3.84亿   \n",
       "2016-03-31  2016-03-31   0.05   468.45万     None   460.77万       None   1.06亿   \n",
       "2015-12-31  2015-12-31   0.32  2838.99万   -5.91%  2522.26万     -6.34%   9.32亿   \n",
       "2014-12-31  2014-12-31   0.34  3017.19万   93.14%  2693.00万    122.13%   7.65亿   \n",
       "2013-12-31  2013-12-31   0.17  1562.20万   56.79%  1212.37万     26.56%   5.73亿   \n",
       "2012-12-31  2012-12-31   0.11   996.38万     None   957.94万       None   4.88亿   \n",
       "\n",
       "           yyzsrtbzzl mgjzc  jzcsrl jzcsyl-tb  zcfzbl mgzbgjj mgwfplr mgjyxjl  \\\n",
       "date                                                                            \n",
       "2017-12-31     97.16%  9.28  52.67%    40.35%  48.76%    3.61    4.68   -0.78   \n",
       "2017-09-30     68.71%  8.26  41.66%    31.44%  38.26%    3.61    3.65   -1.05   \n",
       "2017-06-30     28.53%  6.90  22.44%    16.42%  36.74%    3.61    2.18   -0.89   \n",
       "2017-03-31    119.25%  6.25  12.47%     6.63%  37.28%    3.61    1.46   -0.08   \n",
       "2016-12-31    -20.24%  4.15  20.75%    17.81%  53.49%    1.49    1.40    1.65   \n",
       "2016-09-30       None  None    None      None    None    None    None    0.64   \n",
       "2016-06-30       None  3.46   6.03%     5.74%  60.51%    1.49    0.87    0.32   \n",
       "2016-03-31       None  None   1.62%      None    None    None    None    None   \n",
       "2015-12-31     21.86%  3.20  10.90%     9.87%  63.70%    1.49    0.67    1.03   \n",
       "2014-12-31     33.40%  2.73  13.01%    12.26%  67.85%    1.49    0.36    0.67   \n",
       "2013-12-31     17.45%  2.41   7.33%     7.20%  64.51%    None    None    0.41   \n",
       "2012-12-31       None  2.28   5.01%     4.85%  74.54%    None    None    0.07   \n",
       "\n",
       "             xsmll chzzl   xsjll  \n",
       "date                              \n",
       "2017-12-31  48.90%  1.27  30.68%  \n",
       "2017-09-30  50.67%  0.97  32.71%  \n",
       "2017-06-30  45.77%  0.67  27.54%  \n",
       "2017-03-31  38.73%  0.49  21.49%  \n",
       "2016-12-31  23.20%  2.00   8.96%  \n",
       "2016-09-30  20.36%  None   6.95%  \n",
       "2016-06-30  17.52%  1.19   4.65%  \n",
       "2016-03-31  22.15%  None   4.44%  \n",
       "2015-12-31  15.52%  2.68   3.05%  \n",
       "2014-12-31  17.24%  2.69   3.95%  \n",
       "2013-12-31  18.25%  2.49   2.73%  \n",
       "2012-12-31  17.56%  2.11   2.03%  "
      ]
     },
     "execution_count": 8,
     "metadata": {},
     "output_type": "execute_result"
    }
   ],
   "source": [
    "df"
   ]
  },
  {
   "cell_type": "code",
   "execution_count": 10,
   "metadata": {
    "collapsed": true
   },
   "outputs": [],
   "source": [
    "doc_dic ={\n",
    "    'code' : stock_id,\n",
    "    'last_date' : df.ix[0, 'date'],\n",
    "    'fin_data' : json.loads(df.to_json(orient='records')) # turns df into json, then into dictionary\n",
    "}"
   ]
  },
  {
   "cell_type": "code",
   "execution_count": 11,
   "metadata": {},
   "outputs": [
    {
     "name": "stdout",
     "output_type": "stream",
     "text": [
      "{'code': '300618', 'fin_data': [{'mgwfplr': '4.68', 'yyzsrtbzzl': '97.16%', 'kfjlr': '4.49亿', 'mgzbgjj': '3.61', 'yyzsr': '14.65亿', 'kfjlrtbzzl': '591.35%', 'jzcsyl-tb': '40.35%', 'mgjzc': '9.28', 'jlrtbzzl': '575.04%', 'xsmll': '48.90%', 'jbmgsy': '3.91', 'xsjll': '30.68%', 'jlr': '4.49亿', 'zcfzbl': '48.76%', 'date': '2017-12-31', 'mgjyxjl': '-0.78', 'chzzl': '1.27', 'jzcsrl': '52.67%'}, {'mgwfplr': '3.65', 'yyzsrtbzzl': '68.71%', 'kfjlr': '3.10亿', 'mgzbgjj': '3.61', 'yyzsr': '9.53亿', 'kfjlrtbzzl': None, 'jzcsyl-tb': '31.44%', 'mgjzc': '8.26', 'jlrtbzzl': '694.66%', 'xsmll': '50.67%', 'jbmgsy': '2.83', 'xsjll': '32.71%', 'jlr': '3.12亿', 'zcfzbl': '38.26%', 'date': '2017-09-30', 'mgjyxjl': '-1.05', 'chzzl': '0.97', 'jzcsrl': '41.66%'}, {'mgwfplr': '2.18', 'yyzsrtbzzl': '28.53%', 'kfjlr': '1.36亿', 'mgzbgjj': '3.61', 'yyzsr': '4.94亿', 'kfjlrtbzzl': '682.08%', 'jzcsyl-tb': '16.42%', 'mgjzc': '6.90', 'jlrtbzzl': '660.81%', 'xsmll': '45.77%', 'jbmgsy': '1.29', 'xsjll': '27.54%', 'jlr': '1.36亿', 'zcfzbl': '36.74%', 'date': '2017-06-30', 'mgjyxjl': '-0.89', 'chzzl': '0.67', 'jzcsrl': '22.44%'}, {'mgwfplr': '1.46', 'yyzsrtbzzl': '119.25%', 'kfjlr': '4964.78万', 'mgzbgjj': '3.61', 'yyzsr': '2.31亿', 'kfjlrtbzzl': '977.51%', 'jzcsyl-tb': '6.63%', 'mgjzc': '6.25', 'jlrtbzzl': '961.42%', 'xsmll': '38.73%', 'jbmgsy': '0.55', 'xsjll': '21.49%', 'jlr': '4972.22万', 'zcfzbl': '37.28%', 'date': '2017-03-31', 'mgjyxjl': '-0.08', 'chzzl': '0.49', 'jzcsrl': '12.47%'}, {'mgwfplr': '1.40', 'yyzsrtbzzl': '-20.24%', 'kfjlr': '6498.80万', 'mgzbgjj': '1.49', 'yyzsr': '7.43亿', 'kfjlrtbzzl': '157.66%', 'jzcsyl-tb': '17.81%', 'mgjzc': '4.15', 'jlrtbzzl': '134.50%', 'xsmll': '23.20%', 'jbmgsy': '0.74', 'xsjll': '8.96%', 'jlr': '6657.50万', 'zcfzbl': '53.49%', 'date': '2016-12-31', 'mgjyxjl': '1.65', 'chzzl': '2.00', 'jzcsrl': '20.75%'}, {'mgwfplr': None, 'yyzsrtbzzl': None, 'kfjlr': None, 'mgzbgjj': None, 'yyzsr': '5.65亿', 'kfjlrtbzzl': None, 'jzcsyl-tb': None, 'mgjzc': None, 'jlrtbzzl': None, 'xsmll': '20.36%', 'jbmgsy': '0.44', 'xsjll': '6.95%', 'jlr': '3923.54万', 'zcfzbl': None, 'date': '2016-09-30', 'mgjyxjl': '0.64', 'chzzl': None, 'jzcsrl': None}, {'mgwfplr': '0.87', 'yyzsrtbzzl': None, 'kfjlr': '1739.14万', 'mgzbgjj': '1.49', 'yyzsr': '3.84亿', 'kfjlrtbzzl': None, 'jzcsyl-tb': '5.74%', 'mgjzc': '3.46', 'jlrtbzzl': None, 'xsmll': '17.52%', 'jbmgsy': '0.20', 'xsjll': '4.65%', 'jlr': '1786.84万', 'zcfzbl': '60.51%', 'date': '2016-06-30', 'mgjyxjl': '0.32', 'chzzl': '1.19', 'jzcsrl': '6.03%'}, {'mgwfplr': None, 'yyzsrtbzzl': None, 'kfjlr': '460.77万', 'mgzbgjj': None, 'yyzsr': '1.06亿', 'kfjlrtbzzl': None, 'jzcsyl-tb': None, 'mgjzc': None, 'jlrtbzzl': None, 'xsmll': '22.15%', 'jbmgsy': '0.05', 'xsjll': '4.44%', 'jlr': '468.45万', 'zcfzbl': None, 'date': '2016-03-31', 'mgjyxjl': None, 'chzzl': None, 'jzcsrl': '1.62%'}, {'mgwfplr': '0.67', 'yyzsrtbzzl': '21.86%', 'kfjlr': '2522.26万', 'mgzbgjj': '1.49', 'yyzsr': '9.32亿', 'kfjlrtbzzl': '-6.34%', 'jzcsyl-tb': '9.87%', 'mgjzc': '3.20', 'jlrtbzzl': '-5.91%', 'xsmll': '15.52%', 'jbmgsy': '0.32', 'xsjll': '3.05%', 'jlr': '2838.99万', 'zcfzbl': '63.70%', 'date': '2015-12-31', 'mgjyxjl': '1.03', 'chzzl': '2.68', 'jzcsrl': '10.90%'}, {'mgwfplr': '0.36', 'yyzsrtbzzl': '33.40%', 'kfjlr': '2693.00万', 'mgzbgjj': '1.49', 'yyzsr': '7.65亿', 'kfjlrtbzzl': '122.13%', 'jzcsyl-tb': '12.26%', 'mgjzc': '2.73', 'jlrtbzzl': '93.14%', 'xsmll': '17.24%', 'jbmgsy': '0.34', 'xsjll': '3.95%', 'jlr': '3017.19万', 'zcfzbl': '67.85%', 'date': '2014-12-31', 'mgjyxjl': '0.67', 'chzzl': '2.69', 'jzcsrl': '13.01%'}, {'mgwfplr': None, 'yyzsrtbzzl': '17.45%', 'kfjlr': '1212.37万', 'mgzbgjj': None, 'yyzsr': '5.73亿', 'kfjlrtbzzl': '26.56%', 'jzcsyl-tb': '7.20%', 'mgjzc': '2.41', 'jlrtbzzl': '56.79%', 'xsmll': '18.25%', 'jbmgsy': '0.17', 'xsjll': '2.73%', 'jlr': '1562.20万', 'zcfzbl': '64.51%', 'date': '2013-12-31', 'mgjyxjl': '0.41', 'chzzl': '2.49', 'jzcsrl': '7.33%'}, {'mgwfplr': None, 'yyzsrtbzzl': None, 'kfjlr': '957.94万', 'mgzbgjj': None, 'yyzsr': '4.88亿', 'kfjlrtbzzl': None, 'jzcsyl-tb': '4.85%', 'mgjzc': '2.28', 'jlrtbzzl': None, 'xsmll': '17.56%', 'jbmgsy': '0.11', 'xsjll': '2.03%', 'jlr': '996.38万', 'zcfzbl': '74.54%', 'date': '2012-12-31', 'mgjyxjl': '0.07', 'chzzl': '2.11', 'jzcsrl': '5.01%'}], 'last_date': '2017-12-31'}\n"
     ]
    }
   ],
   "source": [
    "print(doc_dic)"
   ]
  },
  {
   "cell_type": "code",
   "execution_count": null,
   "metadata": {
    "collapsed": true
   },
   "outputs": [],
   "source": []
  }
 ],
 "metadata": {
  "kernelspec": {
   "display_name": "Python [conda env:python3]",
   "language": "python",
   "name": "conda-env-python3-py"
  },
  "language_info": {
   "codemirror_mode": {
    "name": "ipython",
    "version": 3
   },
   "file_extension": ".py",
   "mimetype": "text/x-python",
   "name": "python",
   "nbconvert_exporter": "python",
   "pygments_lexer": "ipython3",
   "version": "3.5.3"
  }
 },
 "nbformat": 4,
 "nbformat_minor": 2
}
